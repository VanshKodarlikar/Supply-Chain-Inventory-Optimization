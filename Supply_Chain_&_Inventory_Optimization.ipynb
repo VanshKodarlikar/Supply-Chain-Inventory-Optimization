{
  "nbformat": 4,
  "nbformat_minor": 0,
  "metadata": {
    "colab": {
      "provenance": [],
      "mount_file_id": "1FahnxfwJnlOYnQ1zewLn_Idc61tR1Pfj",
      "authorship_tag": "ABX9TyM/VTJg8OPcZwtNMAVueSA3",
      "include_colab_link": true
    },
    "kernelspec": {
      "name": "python3",
      "display_name": "Python 3"
    },
    "language_info": {
      "name": "python"
    }
  },
  "cells": [
    {
      "cell_type": "markdown",
      "metadata": {
        "id": "view-in-github",
        "colab_type": "text"
      },
      "source": [
        "<a href=\"https://colab.research.google.com/github/VanshKodarlikar/Supply-Chain-Inventory-Optimization/blob/main/Supply_Chain_%26_Inventory_Optimization.ipynb\" target=\"_parent\"><img src=\"https://colab.research.google.com/assets/colab-badge.svg\" alt=\"Open In Colab\"/></a>"
      ]
    },
    {
      "cell_type": "code",
      "execution_count": 42,
      "metadata": {
        "id": "YhZ9JF5blzrR"
      },
      "outputs": [],
      "source": [
        "import numpy as np\n",
        "import pandas as pd\n",
        "import matplotlib.pyplot as plt\n",
        "import seaborn as sns"
      ]
    },
    {
      "cell_type": "markdown",
      "source": [
        "# **DATA LOADING**"
      ],
      "metadata": {
        "id": "n_mvzuIx0dNl"
      }
    },
    {
      "cell_type": "code",
      "source": [
        "sales = pd.read_csv('/content/sales.csv')\n",
        "sales.head()"
      ],
      "metadata": {
        "colab": {
          "base_uri": "https://localhost:8080/",
          "height": 0
        },
        "id": "eT4mHufKmHK3",
        "outputId": "76e1e531-8c59-46fd-af15-cacc72296dac"
      },
      "execution_count": 43,
      "outputs": [
        {
          "output_type": "execute_result",
          "data": {
            "text/plain": [
              "         date  sku_id store_id  quantity  revenue\n",
              "0  2025-04-13  SKU020    STR08        70    14140\n",
              "1  2025-03-24  SKU011    STR08       166    33034\n",
              "2  2025-04-14  SKU003    STR06       102    10302\n",
              "3  2025-03-29  SKU012    STR06       179    52089\n",
              "4  2025-03-01  SKU001    STR10        71    13348"
            ],
            "text/html": [
              "\n",
              "  <div id=\"df-9b051c74-1227-4c09-bfed-24f6e4b7b033\" class=\"colab-df-container\">\n",
              "    <div>\n",
              "<style scoped>\n",
              "    .dataframe tbody tr th:only-of-type {\n",
              "        vertical-align: middle;\n",
              "    }\n",
              "\n",
              "    .dataframe tbody tr th {\n",
              "        vertical-align: top;\n",
              "    }\n",
              "\n",
              "    .dataframe thead th {\n",
              "        text-align: right;\n",
              "    }\n",
              "</style>\n",
              "<table border=\"1\" class=\"dataframe\">\n",
              "  <thead>\n",
              "    <tr style=\"text-align: right;\">\n",
              "      <th></th>\n",
              "      <th>date</th>\n",
              "      <th>sku_id</th>\n",
              "      <th>store_id</th>\n",
              "      <th>quantity</th>\n",
              "      <th>revenue</th>\n",
              "    </tr>\n",
              "  </thead>\n",
              "  <tbody>\n",
              "    <tr>\n",
              "      <th>0</th>\n",
              "      <td>2025-04-13</td>\n",
              "      <td>SKU020</td>\n",
              "      <td>STR08</td>\n",
              "      <td>70</td>\n",
              "      <td>14140</td>\n",
              "    </tr>\n",
              "    <tr>\n",
              "      <th>1</th>\n",
              "      <td>2025-03-24</td>\n",
              "      <td>SKU011</td>\n",
              "      <td>STR08</td>\n",
              "      <td>166</td>\n",
              "      <td>33034</td>\n",
              "    </tr>\n",
              "    <tr>\n",
              "      <th>2</th>\n",
              "      <td>2025-04-14</td>\n",
              "      <td>SKU003</td>\n",
              "      <td>STR06</td>\n",
              "      <td>102</td>\n",
              "      <td>10302</td>\n",
              "    </tr>\n",
              "    <tr>\n",
              "      <th>3</th>\n",
              "      <td>2025-03-29</td>\n",
              "      <td>SKU012</td>\n",
              "      <td>STR06</td>\n",
              "      <td>179</td>\n",
              "      <td>52089</td>\n",
              "    </tr>\n",
              "    <tr>\n",
              "      <th>4</th>\n",
              "      <td>2025-03-01</td>\n",
              "      <td>SKU001</td>\n",
              "      <td>STR10</td>\n",
              "      <td>71</td>\n",
              "      <td>13348</td>\n",
              "    </tr>\n",
              "  </tbody>\n",
              "</table>\n",
              "</div>\n",
              "    <div class=\"colab-df-buttons\">\n",
              "\n",
              "  <div class=\"colab-df-container\">\n",
              "    <button class=\"colab-df-convert\" onclick=\"convertToInteractive('df-9b051c74-1227-4c09-bfed-24f6e4b7b033')\"\n",
              "            title=\"Convert this dataframe to an interactive table.\"\n",
              "            style=\"display:none;\">\n",
              "\n",
              "  <svg xmlns=\"http://www.w3.org/2000/svg\" height=\"24px\" viewBox=\"0 -960 960 960\">\n",
              "    <path d=\"M120-120v-720h720v720H120Zm60-500h600v-160H180v160Zm220 220h160v-160H400v160Zm0 220h160v-160H400v160ZM180-400h160v-160H180v160Zm440 0h160v-160H620v160ZM180-180h160v-160H180v160Zm440 0h160v-160H620v160Z\"/>\n",
              "  </svg>\n",
              "    </button>\n",
              "\n",
              "  <style>\n",
              "    .colab-df-container {\n",
              "      display:flex;\n",
              "      gap: 12px;\n",
              "    }\n",
              "\n",
              "    .colab-df-convert {\n",
              "      background-color: #E8F0FE;\n",
              "      border: none;\n",
              "      border-radius: 50%;\n",
              "      cursor: pointer;\n",
              "      display: none;\n",
              "      fill: #1967D2;\n",
              "      height: 32px;\n",
              "      padding: 0 0 0 0;\n",
              "      width: 32px;\n",
              "    }\n",
              "\n",
              "    .colab-df-convert:hover {\n",
              "      background-color: #E2EBFA;\n",
              "      box-shadow: 0px 1px 2px rgba(60, 64, 67, 0.3), 0px 1px 3px 1px rgba(60, 64, 67, 0.15);\n",
              "      fill: #174EA6;\n",
              "    }\n",
              "\n",
              "    .colab-df-buttons div {\n",
              "      margin-bottom: 4px;\n",
              "    }\n",
              "\n",
              "    [theme=dark] .colab-df-convert {\n",
              "      background-color: #3B4455;\n",
              "      fill: #D2E3FC;\n",
              "    }\n",
              "\n",
              "    [theme=dark] .colab-df-convert:hover {\n",
              "      background-color: #434B5C;\n",
              "      box-shadow: 0px 1px 3px 1px rgba(0, 0, 0, 0.15);\n",
              "      filter: drop-shadow(0px 1px 2px rgba(0, 0, 0, 0.3));\n",
              "      fill: #FFFFFF;\n",
              "    }\n",
              "  </style>\n",
              "\n",
              "    <script>\n",
              "      const buttonEl =\n",
              "        document.querySelector('#df-9b051c74-1227-4c09-bfed-24f6e4b7b033 button.colab-df-convert');\n",
              "      buttonEl.style.display =\n",
              "        google.colab.kernel.accessAllowed ? 'block' : 'none';\n",
              "\n",
              "      async function convertToInteractive(key) {\n",
              "        const element = document.querySelector('#df-9b051c74-1227-4c09-bfed-24f6e4b7b033');\n",
              "        const dataTable =\n",
              "          await google.colab.kernel.invokeFunction('convertToInteractive',\n",
              "                                                    [key], {});\n",
              "        if (!dataTable) return;\n",
              "\n",
              "        const docLinkHtml = 'Like what you see? Visit the ' +\n",
              "          '<a target=\"_blank\" href=https://colab.research.google.com/notebooks/data_table.ipynb>data table notebook</a>'\n",
              "          + ' to learn more about interactive tables.';\n",
              "        element.innerHTML = '';\n",
              "        dataTable['output_type'] = 'display_data';\n",
              "        await google.colab.output.renderOutput(dataTable, element);\n",
              "        const docLink = document.createElement('div');\n",
              "        docLink.innerHTML = docLinkHtml;\n",
              "        element.appendChild(docLink);\n",
              "      }\n",
              "    </script>\n",
              "  </div>\n",
              "\n",
              "\n",
              "    <div id=\"df-555b6e01-31b0-4dcd-b98e-3f2369695a23\">\n",
              "      <button class=\"colab-df-quickchart\" onclick=\"quickchart('df-555b6e01-31b0-4dcd-b98e-3f2369695a23')\"\n",
              "                title=\"Suggest charts\"\n",
              "                style=\"display:none;\">\n",
              "\n",
              "<svg xmlns=\"http://www.w3.org/2000/svg\" height=\"24px\"viewBox=\"0 0 24 24\"\n",
              "     width=\"24px\">\n",
              "    <g>\n",
              "        <path d=\"M19 3H5c-1.1 0-2 .9-2 2v14c0 1.1.9 2 2 2h14c1.1 0 2-.9 2-2V5c0-1.1-.9-2-2-2zM9 17H7v-7h2v7zm4 0h-2V7h2v10zm4 0h-2v-4h2v4z\"/>\n",
              "    </g>\n",
              "</svg>\n",
              "      </button>\n",
              "\n",
              "<style>\n",
              "  .colab-df-quickchart {\n",
              "      --bg-color: #E8F0FE;\n",
              "      --fill-color: #1967D2;\n",
              "      --hover-bg-color: #E2EBFA;\n",
              "      --hover-fill-color: #174EA6;\n",
              "      --disabled-fill-color: #AAA;\n",
              "      --disabled-bg-color: #DDD;\n",
              "  }\n",
              "\n",
              "  [theme=dark] .colab-df-quickchart {\n",
              "      --bg-color: #3B4455;\n",
              "      --fill-color: #D2E3FC;\n",
              "      --hover-bg-color: #434B5C;\n",
              "      --hover-fill-color: #FFFFFF;\n",
              "      --disabled-bg-color: #3B4455;\n",
              "      --disabled-fill-color: #666;\n",
              "  }\n",
              "\n",
              "  .colab-df-quickchart {\n",
              "    background-color: var(--bg-color);\n",
              "    border: none;\n",
              "    border-radius: 50%;\n",
              "    cursor: pointer;\n",
              "    display: none;\n",
              "    fill: var(--fill-color);\n",
              "    height: 32px;\n",
              "    padding: 0;\n",
              "    width: 32px;\n",
              "  }\n",
              "\n",
              "  .colab-df-quickchart:hover {\n",
              "    background-color: var(--hover-bg-color);\n",
              "    box-shadow: 0 1px 2px rgba(60, 64, 67, 0.3), 0 1px 3px 1px rgba(60, 64, 67, 0.15);\n",
              "    fill: var(--button-hover-fill-color);\n",
              "  }\n",
              "\n",
              "  .colab-df-quickchart-complete:disabled,\n",
              "  .colab-df-quickchart-complete:disabled:hover {\n",
              "    background-color: var(--disabled-bg-color);\n",
              "    fill: var(--disabled-fill-color);\n",
              "    box-shadow: none;\n",
              "  }\n",
              "\n",
              "  .colab-df-spinner {\n",
              "    border: 2px solid var(--fill-color);\n",
              "    border-color: transparent;\n",
              "    border-bottom-color: var(--fill-color);\n",
              "    animation:\n",
              "      spin 1s steps(1) infinite;\n",
              "  }\n",
              "\n",
              "  @keyframes spin {\n",
              "    0% {\n",
              "      border-color: transparent;\n",
              "      border-bottom-color: var(--fill-color);\n",
              "      border-left-color: var(--fill-color);\n",
              "    }\n",
              "    20% {\n",
              "      border-color: transparent;\n",
              "      border-left-color: var(--fill-color);\n",
              "      border-top-color: var(--fill-color);\n",
              "    }\n",
              "    30% {\n",
              "      border-color: transparent;\n",
              "      border-left-color: var(--fill-color);\n",
              "      border-top-color: var(--fill-color);\n",
              "      border-right-color: var(--fill-color);\n",
              "    }\n",
              "    40% {\n",
              "      border-color: transparent;\n",
              "      border-right-color: var(--fill-color);\n",
              "      border-top-color: var(--fill-color);\n",
              "    }\n",
              "    60% {\n",
              "      border-color: transparent;\n",
              "      border-right-color: var(--fill-color);\n",
              "    }\n",
              "    80% {\n",
              "      border-color: transparent;\n",
              "      border-right-color: var(--fill-color);\n",
              "      border-bottom-color: var(--fill-color);\n",
              "    }\n",
              "    90% {\n",
              "      border-color: transparent;\n",
              "      border-bottom-color: var(--fill-color);\n",
              "    }\n",
              "  }\n",
              "</style>\n",
              "\n",
              "      <script>\n",
              "        async function quickchart(key) {\n",
              "          const quickchartButtonEl =\n",
              "            document.querySelector('#' + key + ' button');\n",
              "          quickchartButtonEl.disabled = true;  // To prevent multiple clicks.\n",
              "          quickchartButtonEl.classList.add('colab-df-spinner');\n",
              "          try {\n",
              "            const charts = await google.colab.kernel.invokeFunction(\n",
              "                'suggestCharts', [key], {});\n",
              "          } catch (error) {\n",
              "            console.error('Error during call to suggestCharts:', error);\n",
              "          }\n",
              "          quickchartButtonEl.classList.remove('colab-df-spinner');\n",
              "          quickchartButtonEl.classList.add('colab-df-quickchart-complete');\n",
              "        }\n",
              "        (() => {\n",
              "          let quickchartButtonEl =\n",
              "            document.querySelector('#df-555b6e01-31b0-4dcd-b98e-3f2369695a23 button');\n",
              "          quickchartButtonEl.style.display =\n",
              "            google.colab.kernel.accessAllowed ? 'block' : 'none';\n",
              "        })();\n",
              "      </script>\n",
              "    </div>\n",
              "\n",
              "    </div>\n",
              "  </div>\n"
            ],
            "application/vnd.google.colaboratory.intrinsic+json": {
              "type": "dataframe",
              "variable_name": "sales",
              "summary": "{\n  \"name\": \"sales\",\n  \"rows\": 4000,\n  \"fields\": [\n    {\n      \"column\": \"date\",\n      \"properties\": {\n        \"dtype\": \"object\",\n        \"num_unique_values\": 120,\n        \"samples\": [\n          \"2025-03-21\",\n          \"2025-02-13\",\n          \"2025-03-01\"\n        ],\n        \"semantic_type\": \"\",\n        \"description\": \"\"\n      }\n    },\n    {\n      \"column\": \"sku_id\",\n      \"properties\": {\n        \"dtype\": \"category\",\n        \"num_unique_values\": 20,\n        \"samples\": [\n          \"SKU020\",\n          \"SKU019\",\n          \"SKU016\"\n        ],\n        \"semantic_type\": \"\",\n        \"description\": \"\"\n      }\n    },\n    {\n      \"column\": \"store_id\",\n      \"properties\": {\n        \"dtype\": \"category\",\n        \"num_unique_values\": 10,\n        \"samples\": [\n          \"STR09\",\n          \"STR06\",\n          \"STR07\"\n        ],\n        \"semantic_type\": \"\",\n        \"description\": \"\"\n      }\n    },\n    {\n      \"column\": \"quantity\",\n      \"properties\": {\n        \"dtype\": \"number\",\n        \"std\": 43,\n        \"min\": 50,\n        \"max\": 199,\n        \"num_unique_values\": 150,\n        \"samples\": [\n          149,\n          82,\n          176\n        ],\n        \"semantic_type\": \"\",\n        \"description\": \"\"\n      }\n    },\n    {\n      \"column\": \"revenue\",\n      \"properties\": {\n        \"dtype\": \"number\",\n        \"std\": 11473,\n        \"min\": 5200,\n        \"max\": 59501,\n        \"num_unique_values\": 3274,\n        \"samples\": [\n          10241,\n          25317,\n          52020\n        ],\n        \"semantic_type\": \"\",\n        \"description\": \"\"\n      }\n    }\n  ]\n}"
            }
          },
          "metadata": {},
          "execution_count": 43
        }
      ]
    },
    {
      "cell_type": "code",
      "source": [
        "sales.size"
      ],
      "metadata": {
        "colab": {
          "base_uri": "https://localhost:8080/"
        },
        "id": "HzrsTPqkmSbR",
        "outputId": "46cc9308-3411-4f48-d5c6-b2d62d2fffe8"
      },
      "execution_count": 44,
      "outputs": [
        {
          "output_type": "execute_result",
          "data": {
            "text/plain": [
              "20000"
            ]
          },
          "metadata": {},
          "execution_count": 44
        }
      ]
    },
    {
      "cell_type": "code",
      "source": [
        "sales.shape"
      ],
      "metadata": {
        "colab": {
          "base_uri": "https://localhost:8080/"
        },
        "id": "H9IWSGDYmWAH",
        "outputId": "a44ea4b4-14d1-45bd-df68-533d0d2380bb"
      },
      "execution_count": 45,
      "outputs": [
        {
          "output_type": "execute_result",
          "data": {
            "text/plain": [
              "(4000, 5)"
            ]
          },
          "metadata": {},
          "execution_count": 45
        }
      ]
    },
    {
      "cell_type": "code",
      "source": [
        "inventory=pd.read_csv('/content/inventory.csv')\n",
        "inventory.head()"
      ],
      "metadata": {
        "colab": {
          "base_uri": "https://localhost:8080/",
          "height": 0
        },
        "id": "opM7ul3ImYGo",
        "outputId": "7660ef87-b8da-490a-d19f-0addad5a9145"
      },
      "execution_count": 46,
      "outputs": [
        {
          "output_type": "execute_result",
          "data": {
            "text/plain": [
              "         date  sku_id  opening_stock  closing_stock expiry_date\n",
              "0  2025-04-04  SKU002            409            220  2025-07-07\n",
              "1  2025-03-12  SKU009            663            502  2025-07-17\n",
              "2  2025-01-29  SKU006            675            476  2025-04-06\n",
              "3  2025-03-04  SKU001            596            401  2025-05-20\n",
              "4  2025-03-18  SKU014            338            186  2025-09-07"
            ],
            "text/html": [
              "\n",
              "  <div id=\"df-0bef06ae-1efa-4458-805c-127c9c229391\" class=\"colab-df-container\">\n",
              "    <div>\n",
              "<style scoped>\n",
              "    .dataframe tbody tr th:only-of-type {\n",
              "        vertical-align: middle;\n",
              "    }\n",
              "\n",
              "    .dataframe tbody tr th {\n",
              "        vertical-align: top;\n",
              "    }\n",
              "\n",
              "    .dataframe thead th {\n",
              "        text-align: right;\n",
              "    }\n",
              "</style>\n",
              "<table border=\"1\" class=\"dataframe\">\n",
              "  <thead>\n",
              "    <tr style=\"text-align: right;\">\n",
              "      <th></th>\n",
              "      <th>date</th>\n",
              "      <th>sku_id</th>\n",
              "      <th>opening_stock</th>\n",
              "      <th>closing_stock</th>\n",
              "      <th>expiry_date</th>\n",
              "    </tr>\n",
              "  </thead>\n",
              "  <tbody>\n",
              "    <tr>\n",
              "      <th>0</th>\n",
              "      <td>2025-04-04</td>\n",
              "      <td>SKU002</td>\n",
              "      <td>409</td>\n",
              "      <td>220</td>\n",
              "      <td>2025-07-07</td>\n",
              "    </tr>\n",
              "    <tr>\n",
              "      <th>1</th>\n",
              "      <td>2025-03-12</td>\n",
              "      <td>SKU009</td>\n",
              "      <td>663</td>\n",
              "      <td>502</td>\n",
              "      <td>2025-07-17</td>\n",
              "    </tr>\n",
              "    <tr>\n",
              "      <th>2</th>\n",
              "      <td>2025-01-29</td>\n",
              "      <td>SKU006</td>\n",
              "      <td>675</td>\n",
              "      <td>476</td>\n",
              "      <td>2025-04-06</td>\n",
              "    </tr>\n",
              "    <tr>\n",
              "      <th>3</th>\n",
              "      <td>2025-03-04</td>\n",
              "      <td>SKU001</td>\n",
              "      <td>596</td>\n",
              "      <td>401</td>\n",
              "      <td>2025-05-20</td>\n",
              "    </tr>\n",
              "    <tr>\n",
              "      <th>4</th>\n",
              "      <td>2025-03-18</td>\n",
              "      <td>SKU014</td>\n",
              "      <td>338</td>\n",
              "      <td>186</td>\n",
              "      <td>2025-09-07</td>\n",
              "    </tr>\n",
              "  </tbody>\n",
              "</table>\n",
              "</div>\n",
              "    <div class=\"colab-df-buttons\">\n",
              "\n",
              "  <div class=\"colab-df-container\">\n",
              "    <button class=\"colab-df-convert\" onclick=\"convertToInteractive('df-0bef06ae-1efa-4458-805c-127c9c229391')\"\n",
              "            title=\"Convert this dataframe to an interactive table.\"\n",
              "            style=\"display:none;\">\n",
              "\n",
              "  <svg xmlns=\"http://www.w3.org/2000/svg\" height=\"24px\" viewBox=\"0 -960 960 960\">\n",
              "    <path d=\"M120-120v-720h720v720H120Zm60-500h600v-160H180v160Zm220 220h160v-160H400v160Zm0 220h160v-160H400v160ZM180-400h160v-160H180v160Zm440 0h160v-160H620v160ZM180-180h160v-160H180v160Zm440 0h160v-160H620v160Z\"/>\n",
              "  </svg>\n",
              "    </button>\n",
              "\n",
              "  <style>\n",
              "    .colab-df-container {\n",
              "      display:flex;\n",
              "      gap: 12px;\n",
              "    }\n",
              "\n",
              "    .colab-df-convert {\n",
              "      background-color: #E8F0FE;\n",
              "      border: none;\n",
              "      border-radius: 50%;\n",
              "      cursor: pointer;\n",
              "      display: none;\n",
              "      fill: #1967D2;\n",
              "      height: 32px;\n",
              "      padding: 0 0 0 0;\n",
              "      width: 32px;\n",
              "    }\n",
              "\n",
              "    .colab-df-convert:hover {\n",
              "      background-color: #E2EBFA;\n",
              "      box-shadow: 0px 1px 2px rgba(60, 64, 67, 0.3), 0px 1px 3px 1px rgba(60, 64, 67, 0.15);\n",
              "      fill: #174EA6;\n",
              "    }\n",
              "\n",
              "    .colab-df-buttons div {\n",
              "      margin-bottom: 4px;\n",
              "    }\n",
              "\n",
              "    [theme=dark] .colab-df-convert {\n",
              "      background-color: #3B4455;\n",
              "      fill: #D2E3FC;\n",
              "    }\n",
              "\n",
              "    [theme=dark] .colab-df-convert:hover {\n",
              "      background-color: #434B5C;\n",
              "      box-shadow: 0px 1px 3px 1px rgba(0, 0, 0, 0.15);\n",
              "      filter: drop-shadow(0px 1px 2px rgba(0, 0, 0, 0.3));\n",
              "      fill: #FFFFFF;\n",
              "    }\n",
              "  </style>\n",
              "\n",
              "    <script>\n",
              "      const buttonEl =\n",
              "        document.querySelector('#df-0bef06ae-1efa-4458-805c-127c9c229391 button.colab-df-convert');\n",
              "      buttonEl.style.display =\n",
              "        google.colab.kernel.accessAllowed ? 'block' : 'none';\n",
              "\n",
              "      async function convertToInteractive(key) {\n",
              "        const element = document.querySelector('#df-0bef06ae-1efa-4458-805c-127c9c229391');\n",
              "        const dataTable =\n",
              "          await google.colab.kernel.invokeFunction('convertToInteractive',\n",
              "                                                    [key], {});\n",
              "        if (!dataTable) return;\n",
              "\n",
              "        const docLinkHtml = 'Like what you see? Visit the ' +\n",
              "          '<a target=\"_blank\" href=https://colab.research.google.com/notebooks/data_table.ipynb>data table notebook</a>'\n",
              "          + ' to learn more about interactive tables.';\n",
              "        element.innerHTML = '';\n",
              "        dataTable['output_type'] = 'display_data';\n",
              "        await google.colab.output.renderOutput(dataTable, element);\n",
              "        const docLink = document.createElement('div');\n",
              "        docLink.innerHTML = docLinkHtml;\n",
              "        element.appendChild(docLink);\n",
              "      }\n",
              "    </script>\n",
              "  </div>\n",
              "\n",
              "\n",
              "    <div id=\"df-922de098-f1a3-4b75-b9a9-e4641860aadb\">\n",
              "      <button class=\"colab-df-quickchart\" onclick=\"quickchart('df-922de098-f1a3-4b75-b9a9-e4641860aadb')\"\n",
              "                title=\"Suggest charts\"\n",
              "                style=\"display:none;\">\n",
              "\n",
              "<svg xmlns=\"http://www.w3.org/2000/svg\" height=\"24px\"viewBox=\"0 0 24 24\"\n",
              "     width=\"24px\">\n",
              "    <g>\n",
              "        <path d=\"M19 3H5c-1.1 0-2 .9-2 2v14c0 1.1.9 2 2 2h14c1.1 0 2-.9 2-2V5c0-1.1-.9-2-2-2zM9 17H7v-7h2v7zm4 0h-2V7h2v10zm4 0h-2v-4h2v4z\"/>\n",
              "    </g>\n",
              "</svg>\n",
              "      </button>\n",
              "\n",
              "<style>\n",
              "  .colab-df-quickchart {\n",
              "      --bg-color: #E8F0FE;\n",
              "      --fill-color: #1967D2;\n",
              "      --hover-bg-color: #E2EBFA;\n",
              "      --hover-fill-color: #174EA6;\n",
              "      --disabled-fill-color: #AAA;\n",
              "      --disabled-bg-color: #DDD;\n",
              "  }\n",
              "\n",
              "  [theme=dark] .colab-df-quickchart {\n",
              "      --bg-color: #3B4455;\n",
              "      --fill-color: #D2E3FC;\n",
              "      --hover-bg-color: #434B5C;\n",
              "      --hover-fill-color: #FFFFFF;\n",
              "      --disabled-bg-color: #3B4455;\n",
              "      --disabled-fill-color: #666;\n",
              "  }\n",
              "\n",
              "  .colab-df-quickchart {\n",
              "    background-color: var(--bg-color);\n",
              "    border: none;\n",
              "    border-radius: 50%;\n",
              "    cursor: pointer;\n",
              "    display: none;\n",
              "    fill: var(--fill-color);\n",
              "    height: 32px;\n",
              "    padding: 0;\n",
              "    width: 32px;\n",
              "  }\n",
              "\n",
              "  .colab-df-quickchart:hover {\n",
              "    background-color: var(--hover-bg-color);\n",
              "    box-shadow: 0 1px 2px rgba(60, 64, 67, 0.3), 0 1px 3px 1px rgba(60, 64, 67, 0.15);\n",
              "    fill: var(--button-hover-fill-color);\n",
              "  }\n",
              "\n",
              "  .colab-df-quickchart-complete:disabled,\n",
              "  .colab-df-quickchart-complete:disabled:hover {\n",
              "    background-color: var(--disabled-bg-color);\n",
              "    fill: var(--disabled-fill-color);\n",
              "    box-shadow: none;\n",
              "  }\n",
              "\n",
              "  .colab-df-spinner {\n",
              "    border: 2px solid var(--fill-color);\n",
              "    border-color: transparent;\n",
              "    border-bottom-color: var(--fill-color);\n",
              "    animation:\n",
              "      spin 1s steps(1) infinite;\n",
              "  }\n",
              "\n",
              "  @keyframes spin {\n",
              "    0% {\n",
              "      border-color: transparent;\n",
              "      border-bottom-color: var(--fill-color);\n",
              "      border-left-color: var(--fill-color);\n",
              "    }\n",
              "    20% {\n",
              "      border-color: transparent;\n",
              "      border-left-color: var(--fill-color);\n",
              "      border-top-color: var(--fill-color);\n",
              "    }\n",
              "    30% {\n",
              "      border-color: transparent;\n",
              "      border-left-color: var(--fill-color);\n",
              "      border-top-color: var(--fill-color);\n",
              "      border-right-color: var(--fill-color);\n",
              "    }\n",
              "    40% {\n",
              "      border-color: transparent;\n",
              "      border-right-color: var(--fill-color);\n",
              "      border-top-color: var(--fill-color);\n",
              "    }\n",
              "    60% {\n",
              "      border-color: transparent;\n",
              "      border-right-color: var(--fill-color);\n",
              "    }\n",
              "    80% {\n",
              "      border-color: transparent;\n",
              "      border-right-color: var(--fill-color);\n",
              "      border-bottom-color: var(--fill-color);\n",
              "    }\n",
              "    90% {\n",
              "      border-color: transparent;\n",
              "      border-bottom-color: var(--fill-color);\n",
              "    }\n",
              "  }\n",
              "</style>\n",
              "\n",
              "      <script>\n",
              "        async function quickchart(key) {\n",
              "          const quickchartButtonEl =\n",
              "            document.querySelector('#' + key + ' button');\n",
              "          quickchartButtonEl.disabled = true;  // To prevent multiple clicks.\n",
              "          quickchartButtonEl.classList.add('colab-df-spinner');\n",
              "          try {\n",
              "            const charts = await google.colab.kernel.invokeFunction(\n",
              "                'suggestCharts', [key], {});\n",
              "          } catch (error) {\n",
              "            console.error('Error during call to suggestCharts:', error);\n",
              "          }\n",
              "          quickchartButtonEl.classList.remove('colab-df-spinner');\n",
              "          quickchartButtonEl.classList.add('colab-df-quickchart-complete');\n",
              "        }\n",
              "        (() => {\n",
              "          let quickchartButtonEl =\n",
              "            document.querySelector('#df-922de098-f1a3-4b75-b9a9-e4641860aadb button');\n",
              "          quickchartButtonEl.style.display =\n",
              "            google.colab.kernel.accessAllowed ? 'block' : 'none';\n",
              "        })();\n",
              "      </script>\n",
              "    </div>\n",
              "\n",
              "    </div>\n",
              "  </div>\n"
            ],
            "application/vnd.google.colaboratory.intrinsic+json": {
              "type": "dataframe",
              "variable_name": "inventory",
              "summary": "{\n  \"name\": \"inventory\",\n  \"rows\": 4000,\n  \"fields\": [\n    {\n      \"column\": \"date\",\n      \"properties\": {\n        \"dtype\": \"object\",\n        \"num_unique_values\": 120,\n        \"samples\": [\n          \"2025-04-14\",\n          \"2025-01-03\",\n          \"2025-03-18\"\n        ],\n        \"semantic_type\": \"\",\n        \"description\": \"\"\n      }\n    },\n    {\n      \"column\": \"sku_id\",\n      \"properties\": {\n        \"dtype\": \"category\",\n        \"num_unique_values\": 20,\n        \"samples\": [\n          \"SKU002\",\n          \"SKU005\",\n          \"SKU011\"\n        ],\n        \"semantic_type\": \"\",\n        \"description\": \"\"\n      }\n    },\n    {\n      \"column\": \"opening_stock\",\n      \"properties\": {\n        \"dtype\": \"number\",\n        \"std\": 174,\n        \"min\": 200,\n        \"max\": 799,\n        \"num_unique_values\": 600,\n        \"samples\": [\n          209,\n          268,\n          543\n        ],\n        \"semantic_type\": \"\",\n        \"description\": \"\"\n      }\n    },\n    {\n      \"column\": \"closing_stock\",\n      \"properties\": {\n        \"dtype\": \"number\",\n        \"std\": 178,\n        \"min\": 10,\n        \"max\": 747,\n        \"num_unique_values\": 699,\n        \"samples\": [\n          438,\n          377,\n          717\n        ],\n        \"semantic_type\": \"\",\n        \"description\": \"\"\n      }\n    },\n    {\n      \"column\": \"expiry_date\",\n      \"properties\": {\n        \"dtype\": \"object\",\n        \"num_unique_values\": 235,\n        \"samples\": [\n          \"2025-09-04\",\n          \"2025-10-19\",\n          \"2025-10-03\"\n        ],\n        \"semantic_type\": \"\",\n        \"description\": \"\"\n      }\n    }\n  ]\n}"
            }
          },
          "metadata": {},
          "execution_count": 46
        }
      ]
    },
    {
      "cell_type": "code",
      "source": [
        "logistics=pd.read_csv('/content/logistics.csv')\n",
        "logistics.head()"
      ],
      "metadata": {
        "colab": {
          "base_uri": "https://localhost:8080/",
          "height": 0
        },
        "id": "PdmHyt3gn8IO",
        "outputId": "85c129e4-01b1-46a1-8c0d-ce6ac79622eb"
      },
      "execution_count": 47,
      "outputs": [
        {
          "output_type": "execute_result",
          "data": {
            "text/plain": [
              "         date route_id  sku_id transport_mode  distance_km   cost  \\\n",
              "0  2025-02-17     R003  SKU018           Rail          634  12046   \n",
              "1  2025-04-16     R005  SKU003           Rail          959   6713   \n",
              "2  2025-01-07     R003  SKU004          Truck          213   2769   \n",
              "3  2025-04-02     R011  SKU006          Truck          431   5603   \n",
              "4  2025-01-21     R001  SKU019          Truck          286   4576   \n",
              "\n",
              "   delivery_time_days  \n",
              "0                   8  \n",
              "1                   2  \n",
              "2                   9  \n",
              "3                   6  \n",
              "4                   1  "
            ],
            "text/html": [
              "\n",
              "  <div id=\"df-3f859395-f25c-4e50-8e73-ec4dbee6dba5\" class=\"colab-df-container\">\n",
              "    <div>\n",
              "<style scoped>\n",
              "    .dataframe tbody tr th:only-of-type {\n",
              "        vertical-align: middle;\n",
              "    }\n",
              "\n",
              "    .dataframe tbody tr th {\n",
              "        vertical-align: top;\n",
              "    }\n",
              "\n",
              "    .dataframe thead th {\n",
              "        text-align: right;\n",
              "    }\n",
              "</style>\n",
              "<table border=\"1\" class=\"dataframe\">\n",
              "  <thead>\n",
              "    <tr style=\"text-align: right;\">\n",
              "      <th></th>\n",
              "      <th>date</th>\n",
              "      <th>route_id</th>\n",
              "      <th>sku_id</th>\n",
              "      <th>transport_mode</th>\n",
              "      <th>distance_km</th>\n",
              "      <th>cost</th>\n",
              "      <th>delivery_time_days</th>\n",
              "    </tr>\n",
              "  </thead>\n",
              "  <tbody>\n",
              "    <tr>\n",
              "      <th>0</th>\n",
              "      <td>2025-02-17</td>\n",
              "      <td>R003</td>\n",
              "      <td>SKU018</td>\n",
              "      <td>Rail</td>\n",
              "      <td>634</td>\n",
              "      <td>12046</td>\n",
              "      <td>8</td>\n",
              "    </tr>\n",
              "    <tr>\n",
              "      <th>1</th>\n",
              "      <td>2025-04-16</td>\n",
              "      <td>R005</td>\n",
              "      <td>SKU003</td>\n",
              "      <td>Rail</td>\n",
              "      <td>959</td>\n",
              "      <td>6713</td>\n",
              "      <td>2</td>\n",
              "    </tr>\n",
              "    <tr>\n",
              "      <th>2</th>\n",
              "      <td>2025-01-07</td>\n",
              "      <td>R003</td>\n",
              "      <td>SKU004</td>\n",
              "      <td>Truck</td>\n",
              "      <td>213</td>\n",
              "      <td>2769</td>\n",
              "      <td>9</td>\n",
              "    </tr>\n",
              "    <tr>\n",
              "      <th>3</th>\n",
              "      <td>2025-04-02</td>\n",
              "      <td>R011</td>\n",
              "      <td>SKU006</td>\n",
              "      <td>Truck</td>\n",
              "      <td>431</td>\n",
              "      <td>5603</td>\n",
              "      <td>6</td>\n",
              "    </tr>\n",
              "    <tr>\n",
              "      <th>4</th>\n",
              "      <td>2025-01-21</td>\n",
              "      <td>R001</td>\n",
              "      <td>SKU019</td>\n",
              "      <td>Truck</td>\n",
              "      <td>286</td>\n",
              "      <td>4576</td>\n",
              "      <td>1</td>\n",
              "    </tr>\n",
              "  </tbody>\n",
              "</table>\n",
              "</div>\n",
              "    <div class=\"colab-df-buttons\">\n",
              "\n",
              "  <div class=\"colab-df-container\">\n",
              "    <button class=\"colab-df-convert\" onclick=\"convertToInteractive('df-3f859395-f25c-4e50-8e73-ec4dbee6dba5')\"\n",
              "            title=\"Convert this dataframe to an interactive table.\"\n",
              "            style=\"display:none;\">\n",
              "\n",
              "  <svg xmlns=\"http://www.w3.org/2000/svg\" height=\"24px\" viewBox=\"0 -960 960 960\">\n",
              "    <path d=\"M120-120v-720h720v720H120Zm60-500h600v-160H180v160Zm220 220h160v-160H400v160Zm0 220h160v-160H400v160ZM180-400h160v-160H180v160Zm440 0h160v-160H620v160ZM180-180h160v-160H180v160Zm440 0h160v-160H620v160Z\"/>\n",
              "  </svg>\n",
              "    </button>\n",
              "\n",
              "  <style>\n",
              "    .colab-df-container {\n",
              "      display:flex;\n",
              "      gap: 12px;\n",
              "    }\n",
              "\n",
              "    .colab-df-convert {\n",
              "      background-color: #E8F0FE;\n",
              "      border: none;\n",
              "      border-radius: 50%;\n",
              "      cursor: pointer;\n",
              "      display: none;\n",
              "      fill: #1967D2;\n",
              "      height: 32px;\n",
              "      padding: 0 0 0 0;\n",
              "      width: 32px;\n",
              "    }\n",
              "\n",
              "    .colab-df-convert:hover {\n",
              "      background-color: #E2EBFA;\n",
              "      box-shadow: 0px 1px 2px rgba(60, 64, 67, 0.3), 0px 1px 3px 1px rgba(60, 64, 67, 0.15);\n",
              "      fill: #174EA6;\n",
              "    }\n",
              "\n",
              "    .colab-df-buttons div {\n",
              "      margin-bottom: 4px;\n",
              "    }\n",
              "\n",
              "    [theme=dark] .colab-df-convert {\n",
              "      background-color: #3B4455;\n",
              "      fill: #D2E3FC;\n",
              "    }\n",
              "\n",
              "    [theme=dark] .colab-df-convert:hover {\n",
              "      background-color: #434B5C;\n",
              "      box-shadow: 0px 1px 3px 1px rgba(0, 0, 0, 0.15);\n",
              "      filter: drop-shadow(0px 1px 2px rgba(0, 0, 0, 0.3));\n",
              "      fill: #FFFFFF;\n",
              "    }\n",
              "  </style>\n",
              "\n",
              "    <script>\n",
              "      const buttonEl =\n",
              "        document.querySelector('#df-3f859395-f25c-4e50-8e73-ec4dbee6dba5 button.colab-df-convert');\n",
              "      buttonEl.style.display =\n",
              "        google.colab.kernel.accessAllowed ? 'block' : 'none';\n",
              "\n",
              "      async function convertToInteractive(key) {\n",
              "        const element = document.querySelector('#df-3f859395-f25c-4e50-8e73-ec4dbee6dba5');\n",
              "        const dataTable =\n",
              "          await google.colab.kernel.invokeFunction('convertToInteractive',\n",
              "                                                    [key], {});\n",
              "        if (!dataTable) return;\n",
              "\n",
              "        const docLinkHtml = 'Like what you see? Visit the ' +\n",
              "          '<a target=\"_blank\" href=https://colab.research.google.com/notebooks/data_table.ipynb>data table notebook</a>'\n",
              "          + ' to learn more about interactive tables.';\n",
              "        element.innerHTML = '';\n",
              "        dataTable['output_type'] = 'display_data';\n",
              "        await google.colab.output.renderOutput(dataTable, element);\n",
              "        const docLink = document.createElement('div');\n",
              "        docLink.innerHTML = docLinkHtml;\n",
              "        element.appendChild(docLink);\n",
              "      }\n",
              "    </script>\n",
              "  </div>\n",
              "\n",
              "\n",
              "    <div id=\"df-8ed25504-5641-465f-9731-12c12126524b\">\n",
              "      <button class=\"colab-df-quickchart\" onclick=\"quickchart('df-8ed25504-5641-465f-9731-12c12126524b')\"\n",
              "                title=\"Suggest charts\"\n",
              "                style=\"display:none;\">\n",
              "\n",
              "<svg xmlns=\"http://www.w3.org/2000/svg\" height=\"24px\"viewBox=\"0 0 24 24\"\n",
              "     width=\"24px\">\n",
              "    <g>\n",
              "        <path d=\"M19 3H5c-1.1 0-2 .9-2 2v14c0 1.1.9 2 2 2h14c1.1 0 2-.9 2-2V5c0-1.1-.9-2-2-2zM9 17H7v-7h2v7zm4 0h-2V7h2v10zm4 0h-2v-4h2v4z\"/>\n",
              "    </g>\n",
              "</svg>\n",
              "      </button>\n",
              "\n",
              "<style>\n",
              "  .colab-df-quickchart {\n",
              "      --bg-color: #E8F0FE;\n",
              "      --fill-color: #1967D2;\n",
              "      --hover-bg-color: #E2EBFA;\n",
              "      --hover-fill-color: #174EA6;\n",
              "      --disabled-fill-color: #AAA;\n",
              "      --disabled-bg-color: #DDD;\n",
              "  }\n",
              "\n",
              "  [theme=dark] .colab-df-quickchart {\n",
              "      --bg-color: #3B4455;\n",
              "      --fill-color: #D2E3FC;\n",
              "      --hover-bg-color: #434B5C;\n",
              "      --hover-fill-color: #FFFFFF;\n",
              "      --disabled-bg-color: #3B4455;\n",
              "      --disabled-fill-color: #666;\n",
              "  }\n",
              "\n",
              "  .colab-df-quickchart {\n",
              "    background-color: var(--bg-color);\n",
              "    border: none;\n",
              "    border-radius: 50%;\n",
              "    cursor: pointer;\n",
              "    display: none;\n",
              "    fill: var(--fill-color);\n",
              "    height: 32px;\n",
              "    padding: 0;\n",
              "    width: 32px;\n",
              "  }\n",
              "\n",
              "  .colab-df-quickchart:hover {\n",
              "    background-color: var(--hover-bg-color);\n",
              "    box-shadow: 0 1px 2px rgba(60, 64, 67, 0.3), 0 1px 3px 1px rgba(60, 64, 67, 0.15);\n",
              "    fill: var(--button-hover-fill-color);\n",
              "  }\n",
              "\n",
              "  .colab-df-quickchart-complete:disabled,\n",
              "  .colab-df-quickchart-complete:disabled:hover {\n",
              "    background-color: var(--disabled-bg-color);\n",
              "    fill: var(--disabled-fill-color);\n",
              "    box-shadow: none;\n",
              "  }\n",
              "\n",
              "  .colab-df-spinner {\n",
              "    border: 2px solid var(--fill-color);\n",
              "    border-color: transparent;\n",
              "    border-bottom-color: var(--fill-color);\n",
              "    animation:\n",
              "      spin 1s steps(1) infinite;\n",
              "  }\n",
              "\n",
              "  @keyframes spin {\n",
              "    0% {\n",
              "      border-color: transparent;\n",
              "      border-bottom-color: var(--fill-color);\n",
              "      border-left-color: var(--fill-color);\n",
              "    }\n",
              "    20% {\n",
              "      border-color: transparent;\n",
              "      border-left-color: var(--fill-color);\n",
              "      border-top-color: var(--fill-color);\n",
              "    }\n",
              "    30% {\n",
              "      border-color: transparent;\n",
              "      border-left-color: var(--fill-color);\n",
              "      border-top-color: var(--fill-color);\n",
              "      border-right-color: var(--fill-color);\n",
              "    }\n",
              "    40% {\n",
              "      border-color: transparent;\n",
              "      border-right-color: var(--fill-color);\n",
              "      border-top-color: var(--fill-color);\n",
              "    }\n",
              "    60% {\n",
              "      border-color: transparent;\n",
              "      border-right-color: var(--fill-color);\n",
              "    }\n",
              "    80% {\n",
              "      border-color: transparent;\n",
              "      border-right-color: var(--fill-color);\n",
              "      border-bottom-color: var(--fill-color);\n",
              "    }\n",
              "    90% {\n",
              "      border-color: transparent;\n",
              "      border-bottom-color: var(--fill-color);\n",
              "    }\n",
              "  }\n",
              "</style>\n",
              "\n",
              "      <script>\n",
              "        async function quickchart(key) {\n",
              "          const quickchartButtonEl =\n",
              "            document.querySelector('#' + key + ' button');\n",
              "          quickchartButtonEl.disabled = true;  // To prevent multiple clicks.\n",
              "          quickchartButtonEl.classList.add('colab-df-spinner');\n",
              "          try {\n",
              "            const charts = await google.colab.kernel.invokeFunction(\n",
              "                'suggestCharts', [key], {});\n",
              "          } catch (error) {\n",
              "            console.error('Error during call to suggestCharts:', error);\n",
              "          }\n",
              "          quickchartButtonEl.classList.remove('colab-df-spinner');\n",
              "          quickchartButtonEl.classList.add('colab-df-quickchart-complete');\n",
              "        }\n",
              "        (() => {\n",
              "          let quickchartButtonEl =\n",
              "            document.querySelector('#df-8ed25504-5641-465f-9731-12c12126524b button');\n",
              "          quickchartButtonEl.style.display =\n",
              "            google.colab.kernel.accessAllowed ? 'block' : 'none';\n",
              "        })();\n",
              "      </script>\n",
              "    </div>\n",
              "\n",
              "    </div>\n",
              "  </div>\n"
            ],
            "application/vnd.google.colaboratory.intrinsic+json": {
              "type": "dataframe",
              "variable_name": "logistics",
              "summary": "{\n  \"name\": \"logistics\",\n  \"rows\": 4000,\n  \"fields\": [\n    {\n      \"column\": \"date\",\n      \"properties\": {\n        \"dtype\": \"object\",\n        \"num_unique_values\": 120,\n        \"samples\": [\n          \"2025-02-02\",\n          \"2025-03-04\",\n          \"2025-01-21\"\n        ],\n        \"semantic_type\": \"\",\n        \"description\": \"\"\n      }\n    },\n    {\n      \"column\": \"route_id\",\n      \"properties\": {\n        \"dtype\": \"category\",\n        \"num_unique_values\": 20,\n        \"samples\": [\n          \"R003\",\n          \"R009\",\n          \"R002\"\n        ],\n        \"semantic_type\": \"\",\n        \"description\": \"\"\n      }\n    },\n    {\n      \"column\": \"sku_id\",\n      \"properties\": {\n        \"dtype\": \"category\",\n        \"num_unique_values\": 20,\n        \"samples\": [\n          \"SKU018\",\n          \"SKU010\",\n          \"SKU009\"\n        ],\n        \"semantic_type\": \"\",\n        \"description\": \"\"\n      }\n    },\n    {\n      \"column\": \"transport_mode\",\n      \"properties\": {\n        \"dtype\": \"category\",\n        \"num_unique_values\": 3,\n        \"samples\": [\n          \"Rail\",\n          \"Truck\",\n          \"Air\"\n        ],\n        \"semantic_type\": \"\",\n        \"description\": \"\"\n      }\n    },\n    {\n      \"column\": \"distance_km\",\n      \"properties\": {\n        \"dtype\": \"number\",\n        \"std\": 277,\n        \"min\": 50,\n        \"max\": 999,\n        \"num_unique_values\": 934,\n        \"samples\": [\n          393,\n          575,\n          747\n        ],\n        \"semantic_type\": \"\",\n        \"description\": \"\"\n      }\n    },\n    {\n      \"column\": \"cost\",\n      \"properties\": {\n        \"dtype\": \"number\",\n        \"std\": 4191,\n        \"min\": 250,\n        \"max\": 18981,\n        \"num_unique_values\": 2910,\n        \"samples\": [\n          12204,\n          8445,\n          8671\n        ],\n        \"semantic_type\": \"\",\n        \"description\": \"\"\n      }\n    },\n    {\n      \"column\": \"delivery_time_days\",\n      \"properties\": {\n        \"dtype\": \"number\",\n        \"std\": 2,\n        \"min\": 1,\n        \"max\": 9,\n        \"num_unique_values\": 9,\n        \"samples\": [\n          5,\n          2,\n          3\n        ],\n        \"semantic_type\": \"\",\n        \"description\": \"\"\n      }\n    }\n  ]\n}"
            }
          },
          "metadata": {},
          "execution_count": 47
        }
      ]
    },
    {
      "cell_type": "code",
      "source": [
        "procurement=pd.read_csv('/content/procurement.csv')\n",
        "procurement.head()"
      ],
      "metadata": {
        "colab": {
          "base_uri": "https://localhost:8080/",
          "height": 0
        },
        "id": "jvgJTsE2oJ7h",
        "outputId": "2666df23-ea50-40a5-ecf2-99319cf78832"
      },
      "execution_count": 48,
      "outputs": [
        {
          "output_type": "execute_result",
          "data": {
            "text/plain": [
              "         date  sku_id supplier  order_qty  lead_time_days   cost\n",
              "0  2025-01-25  SKU001    SUP05        461              11  17057\n",
              "1  2025-01-01  SKU010    SUP02        399              13  11172\n",
              "2  2025-04-04  SKU005    SUP03        479              10  16765\n",
              "3  2025-03-06  SKU017    SUP02        361               4   8664\n",
              "4  2025-04-25  SKU007    SUP01        197               9   9456"
            ],
            "text/html": [
              "\n",
              "  <div id=\"df-6efb1657-34f1-4929-8005-a475dc1c3e09\" class=\"colab-df-container\">\n",
              "    <div>\n",
              "<style scoped>\n",
              "    .dataframe tbody tr th:only-of-type {\n",
              "        vertical-align: middle;\n",
              "    }\n",
              "\n",
              "    .dataframe tbody tr th {\n",
              "        vertical-align: top;\n",
              "    }\n",
              "\n",
              "    .dataframe thead th {\n",
              "        text-align: right;\n",
              "    }\n",
              "</style>\n",
              "<table border=\"1\" class=\"dataframe\">\n",
              "  <thead>\n",
              "    <tr style=\"text-align: right;\">\n",
              "      <th></th>\n",
              "      <th>date</th>\n",
              "      <th>sku_id</th>\n",
              "      <th>supplier</th>\n",
              "      <th>order_qty</th>\n",
              "      <th>lead_time_days</th>\n",
              "      <th>cost</th>\n",
              "    </tr>\n",
              "  </thead>\n",
              "  <tbody>\n",
              "    <tr>\n",
              "      <th>0</th>\n",
              "      <td>2025-01-25</td>\n",
              "      <td>SKU001</td>\n",
              "      <td>SUP05</td>\n",
              "      <td>461</td>\n",
              "      <td>11</td>\n",
              "      <td>17057</td>\n",
              "    </tr>\n",
              "    <tr>\n",
              "      <th>1</th>\n",
              "      <td>2025-01-01</td>\n",
              "      <td>SKU010</td>\n",
              "      <td>SUP02</td>\n",
              "      <td>399</td>\n",
              "      <td>13</td>\n",
              "      <td>11172</td>\n",
              "    </tr>\n",
              "    <tr>\n",
              "      <th>2</th>\n",
              "      <td>2025-04-04</td>\n",
              "      <td>SKU005</td>\n",
              "      <td>SUP03</td>\n",
              "      <td>479</td>\n",
              "      <td>10</td>\n",
              "      <td>16765</td>\n",
              "    </tr>\n",
              "    <tr>\n",
              "      <th>3</th>\n",
              "      <td>2025-03-06</td>\n",
              "      <td>SKU017</td>\n",
              "      <td>SUP02</td>\n",
              "      <td>361</td>\n",
              "      <td>4</td>\n",
              "      <td>8664</td>\n",
              "    </tr>\n",
              "    <tr>\n",
              "      <th>4</th>\n",
              "      <td>2025-04-25</td>\n",
              "      <td>SKU007</td>\n",
              "      <td>SUP01</td>\n",
              "      <td>197</td>\n",
              "      <td>9</td>\n",
              "      <td>9456</td>\n",
              "    </tr>\n",
              "  </tbody>\n",
              "</table>\n",
              "</div>\n",
              "    <div class=\"colab-df-buttons\">\n",
              "\n",
              "  <div class=\"colab-df-container\">\n",
              "    <button class=\"colab-df-convert\" onclick=\"convertToInteractive('df-6efb1657-34f1-4929-8005-a475dc1c3e09')\"\n",
              "            title=\"Convert this dataframe to an interactive table.\"\n",
              "            style=\"display:none;\">\n",
              "\n",
              "  <svg xmlns=\"http://www.w3.org/2000/svg\" height=\"24px\" viewBox=\"0 -960 960 960\">\n",
              "    <path d=\"M120-120v-720h720v720H120Zm60-500h600v-160H180v160Zm220 220h160v-160H400v160Zm0 220h160v-160H400v160ZM180-400h160v-160H180v160Zm440 0h160v-160H620v160ZM180-180h160v-160H180v160Zm440 0h160v-160H620v160Z\"/>\n",
              "  </svg>\n",
              "    </button>\n",
              "\n",
              "  <style>\n",
              "    .colab-df-container {\n",
              "      display:flex;\n",
              "      gap: 12px;\n",
              "    }\n",
              "\n",
              "    .colab-df-convert {\n",
              "      background-color: #E8F0FE;\n",
              "      border: none;\n",
              "      border-radius: 50%;\n",
              "      cursor: pointer;\n",
              "      display: none;\n",
              "      fill: #1967D2;\n",
              "      height: 32px;\n",
              "      padding: 0 0 0 0;\n",
              "      width: 32px;\n",
              "    }\n",
              "\n",
              "    .colab-df-convert:hover {\n",
              "      background-color: #E2EBFA;\n",
              "      box-shadow: 0px 1px 2px rgba(60, 64, 67, 0.3), 0px 1px 3px 1px rgba(60, 64, 67, 0.15);\n",
              "      fill: #174EA6;\n",
              "    }\n",
              "\n",
              "    .colab-df-buttons div {\n",
              "      margin-bottom: 4px;\n",
              "    }\n",
              "\n",
              "    [theme=dark] .colab-df-convert {\n",
              "      background-color: #3B4455;\n",
              "      fill: #D2E3FC;\n",
              "    }\n",
              "\n",
              "    [theme=dark] .colab-df-convert:hover {\n",
              "      background-color: #434B5C;\n",
              "      box-shadow: 0px 1px 3px 1px rgba(0, 0, 0, 0.15);\n",
              "      filter: drop-shadow(0px 1px 2px rgba(0, 0, 0, 0.3));\n",
              "      fill: #FFFFFF;\n",
              "    }\n",
              "  </style>\n",
              "\n",
              "    <script>\n",
              "      const buttonEl =\n",
              "        document.querySelector('#df-6efb1657-34f1-4929-8005-a475dc1c3e09 button.colab-df-convert');\n",
              "      buttonEl.style.display =\n",
              "        google.colab.kernel.accessAllowed ? 'block' : 'none';\n",
              "\n",
              "      async function convertToInteractive(key) {\n",
              "        const element = document.querySelector('#df-6efb1657-34f1-4929-8005-a475dc1c3e09');\n",
              "        const dataTable =\n",
              "          await google.colab.kernel.invokeFunction('convertToInteractive',\n",
              "                                                    [key], {});\n",
              "        if (!dataTable) return;\n",
              "\n",
              "        const docLinkHtml = 'Like what you see? Visit the ' +\n",
              "          '<a target=\"_blank\" href=https://colab.research.google.com/notebooks/data_table.ipynb>data table notebook</a>'\n",
              "          + ' to learn more about interactive tables.';\n",
              "        element.innerHTML = '';\n",
              "        dataTable['output_type'] = 'display_data';\n",
              "        await google.colab.output.renderOutput(dataTable, element);\n",
              "        const docLink = document.createElement('div');\n",
              "        docLink.innerHTML = docLinkHtml;\n",
              "        element.appendChild(docLink);\n",
              "      }\n",
              "    </script>\n",
              "  </div>\n",
              "\n",
              "\n",
              "    <div id=\"df-a22035db-5063-4f50-b96f-0dcac4ba8059\">\n",
              "      <button class=\"colab-df-quickchart\" onclick=\"quickchart('df-a22035db-5063-4f50-b96f-0dcac4ba8059')\"\n",
              "                title=\"Suggest charts\"\n",
              "                style=\"display:none;\">\n",
              "\n",
              "<svg xmlns=\"http://www.w3.org/2000/svg\" height=\"24px\"viewBox=\"0 0 24 24\"\n",
              "     width=\"24px\">\n",
              "    <g>\n",
              "        <path d=\"M19 3H5c-1.1 0-2 .9-2 2v14c0 1.1.9 2 2 2h14c1.1 0 2-.9 2-2V5c0-1.1-.9-2-2-2zM9 17H7v-7h2v7zm4 0h-2V7h2v10zm4 0h-2v-4h2v4z\"/>\n",
              "    </g>\n",
              "</svg>\n",
              "      </button>\n",
              "\n",
              "<style>\n",
              "  .colab-df-quickchart {\n",
              "      --bg-color: #E8F0FE;\n",
              "      --fill-color: #1967D2;\n",
              "      --hover-bg-color: #E2EBFA;\n",
              "      --hover-fill-color: #174EA6;\n",
              "      --disabled-fill-color: #AAA;\n",
              "      --disabled-bg-color: #DDD;\n",
              "  }\n",
              "\n",
              "  [theme=dark] .colab-df-quickchart {\n",
              "      --bg-color: #3B4455;\n",
              "      --fill-color: #D2E3FC;\n",
              "      --hover-bg-color: #434B5C;\n",
              "      --hover-fill-color: #FFFFFF;\n",
              "      --disabled-bg-color: #3B4455;\n",
              "      --disabled-fill-color: #666;\n",
              "  }\n",
              "\n",
              "  .colab-df-quickchart {\n",
              "    background-color: var(--bg-color);\n",
              "    border: none;\n",
              "    border-radius: 50%;\n",
              "    cursor: pointer;\n",
              "    display: none;\n",
              "    fill: var(--fill-color);\n",
              "    height: 32px;\n",
              "    padding: 0;\n",
              "    width: 32px;\n",
              "  }\n",
              "\n",
              "  .colab-df-quickchart:hover {\n",
              "    background-color: var(--hover-bg-color);\n",
              "    box-shadow: 0 1px 2px rgba(60, 64, 67, 0.3), 0 1px 3px 1px rgba(60, 64, 67, 0.15);\n",
              "    fill: var(--button-hover-fill-color);\n",
              "  }\n",
              "\n",
              "  .colab-df-quickchart-complete:disabled,\n",
              "  .colab-df-quickchart-complete:disabled:hover {\n",
              "    background-color: var(--disabled-bg-color);\n",
              "    fill: var(--disabled-fill-color);\n",
              "    box-shadow: none;\n",
              "  }\n",
              "\n",
              "  .colab-df-spinner {\n",
              "    border: 2px solid var(--fill-color);\n",
              "    border-color: transparent;\n",
              "    border-bottom-color: var(--fill-color);\n",
              "    animation:\n",
              "      spin 1s steps(1) infinite;\n",
              "  }\n",
              "\n",
              "  @keyframes spin {\n",
              "    0% {\n",
              "      border-color: transparent;\n",
              "      border-bottom-color: var(--fill-color);\n",
              "      border-left-color: var(--fill-color);\n",
              "    }\n",
              "    20% {\n",
              "      border-color: transparent;\n",
              "      border-left-color: var(--fill-color);\n",
              "      border-top-color: var(--fill-color);\n",
              "    }\n",
              "    30% {\n",
              "      border-color: transparent;\n",
              "      border-left-color: var(--fill-color);\n",
              "      border-top-color: var(--fill-color);\n",
              "      border-right-color: var(--fill-color);\n",
              "    }\n",
              "    40% {\n",
              "      border-color: transparent;\n",
              "      border-right-color: var(--fill-color);\n",
              "      border-top-color: var(--fill-color);\n",
              "    }\n",
              "    60% {\n",
              "      border-color: transparent;\n",
              "      border-right-color: var(--fill-color);\n",
              "    }\n",
              "    80% {\n",
              "      border-color: transparent;\n",
              "      border-right-color: var(--fill-color);\n",
              "      border-bottom-color: var(--fill-color);\n",
              "    }\n",
              "    90% {\n",
              "      border-color: transparent;\n",
              "      border-bottom-color: var(--fill-color);\n",
              "    }\n",
              "  }\n",
              "</style>\n",
              "\n",
              "      <script>\n",
              "        async function quickchart(key) {\n",
              "          const quickchartButtonEl =\n",
              "            document.querySelector('#' + key + ' button');\n",
              "          quickchartButtonEl.disabled = true;  // To prevent multiple clicks.\n",
              "          quickchartButtonEl.classList.add('colab-df-spinner');\n",
              "          try {\n",
              "            const charts = await google.colab.kernel.invokeFunction(\n",
              "                'suggestCharts', [key], {});\n",
              "          } catch (error) {\n",
              "            console.error('Error during call to suggestCharts:', error);\n",
              "          }\n",
              "          quickchartButtonEl.classList.remove('colab-df-spinner');\n",
              "          quickchartButtonEl.classList.add('colab-df-quickchart-complete');\n",
              "        }\n",
              "        (() => {\n",
              "          let quickchartButtonEl =\n",
              "            document.querySelector('#df-a22035db-5063-4f50-b96f-0dcac4ba8059 button');\n",
              "          quickchartButtonEl.style.display =\n",
              "            google.colab.kernel.accessAllowed ? 'block' : 'none';\n",
              "        })();\n",
              "      </script>\n",
              "    </div>\n",
              "\n",
              "    </div>\n",
              "  </div>\n"
            ],
            "application/vnd.google.colaboratory.intrinsic+json": {
              "type": "dataframe",
              "variable_name": "procurement",
              "summary": "{\n  \"name\": \"procurement\",\n  \"rows\": 4000,\n  \"fields\": [\n    {\n      \"column\": \"date\",\n      \"properties\": {\n        \"dtype\": \"object\",\n        \"num_unique_values\": 120,\n        \"samples\": [\n          \"2025-01-03\",\n          \"2025-01-22\",\n          \"2025-04-25\"\n        ],\n        \"semantic_type\": \"\",\n        \"description\": \"\"\n      }\n    },\n    {\n      \"column\": \"sku_id\",\n      \"properties\": {\n        \"dtype\": \"category\",\n        \"num_unique_values\": 20,\n        \"samples\": [\n          \"SKU001\",\n          \"SKU003\",\n          \"SKU004\"\n        ],\n        \"semantic_type\": \"\",\n        \"description\": \"\"\n      }\n    },\n    {\n      \"column\": \"supplier\",\n      \"properties\": {\n        \"dtype\": \"category\",\n        \"num_unique_values\": 5,\n        \"samples\": [\n          \"SUP02\",\n          \"SUP04\",\n          \"SUP03\"\n        ],\n        \"semantic_type\": \"\",\n        \"description\": \"\"\n      }\n    },\n    {\n      \"column\": \"order_qty\",\n      \"properties\": {\n        \"dtype\": \"number\",\n        \"std\": 115,\n        \"min\": 100,\n        \"max\": 499,\n        \"num_unique_values\": 400,\n        \"samples\": [\n          306,\n          199,\n          191\n        ],\n        \"semantic_type\": \"\",\n        \"description\": \"\"\n      }\n    },\n    {\n      \"column\": \"lead_time_days\",\n      \"properties\": {\n        \"dtype\": \"number\",\n        \"std\": 3,\n        \"min\": 3,\n        \"max\": 14,\n        \"num_unique_values\": 12,\n        \"samples\": [\n          5,\n          7,\n          11\n        ],\n        \"semantic_type\": \"\",\n        \"description\": \"\"\n      }\n    },\n    {\n      \"column\": \"cost\",\n      \"properties\": {\n        \"dtype\": \"number\",\n        \"std\": 4839,\n        \"min\": 2000,\n        \"max\": 24108,\n        \"num_unique_values\": 2792,\n        \"samples\": [\n          7097,\n          11252,\n          16490\n        ],\n        \"semantic_type\": \"\",\n        \"description\": \"\"\n      }\n    }\n  ]\n}"
            }
          },
          "metadata": {},
          "execution_count": 48
        }
      ]
    },
    {
      "cell_type": "markdown",
      "source": [
        "# **NULL VALUES HANDLING**"
      ],
      "metadata": {
        "id": "8AqIJ4bo0t0K"
      }
    },
    {
      "cell_type": "code",
      "source": [
        "sales.info()"
      ],
      "metadata": {
        "colab": {
          "base_uri": "https://localhost:8080/"
        },
        "id": "Sd7XPedXoNjz",
        "outputId": "2ed99f72-c94a-4ae9-f3e7-593139914e99"
      },
      "execution_count": 49,
      "outputs": [
        {
          "output_type": "stream",
          "name": "stdout",
          "text": [
            "<class 'pandas.core.frame.DataFrame'>\n",
            "RangeIndex: 4000 entries, 0 to 3999\n",
            "Data columns (total 5 columns):\n",
            " #   Column    Non-Null Count  Dtype \n",
            "---  ------    --------------  ----- \n",
            " 0   date      4000 non-null   object\n",
            " 1   sku_id    4000 non-null   object\n",
            " 2   store_id  4000 non-null   object\n",
            " 3   quantity  4000 non-null   int64 \n",
            " 4   revenue   4000 non-null   int64 \n",
            "dtypes: int64(2), object(3)\n",
            "memory usage: 156.4+ KB\n"
          ]
        }
      ]
    },
    {
      "cell_type": "code",
      "source": [
        "sales.isnull().sum()"
      ],
      "metadata": {
        "colab": {
          "base_uri": "https://localhost:8080/",
          "height": 0
        },
        "id": "z6X78mtJyJEl",
        "outputId": "9ddd7c91-c5f2-4f9d-975e-49aa0928d06d"
      },
      "execution_count": 50,
      "outputs": [
        {
          "output_type": "execute_result",
          "data": {
            "text/plain": [
              "date        0\n",
              "sku_id      0\n",
              "store_id    0\n",
              "quantity    0\n",
              "revenue     0\n",
              "dtype: int64"
            ],
            "text/html": [
              "<div>\n",
              "<style scoped>\n",
              "    .dataframe tbody tr th:only-of-type {\n",
              "        vertical-align: middle;\n",
              "    }\n",
              "\n",
              "    .dataframe tbody tr th {\n",
              "        vertical-align: top;\n",
              "    }\n",
              "\n",
              "    .dataframe thead th {\n",
              "        text-align: right;\n",
              "    }\n",
              "</style>\n",
              "<table border=\"1\" class=\"dataframe\">\n",
              "  <thead>\n",
              "    <tr style=\"text-align: right;\">\n",
              "      <th></th>\n",
              "      <th>0</th>\n",
              "    </tr>\n",
              "  </thead>\n",
              "  <tbody>\n",
              "    <tr>\n",
              "      <th>date</th>\n",
              "      <td>0</td>\n",
              "    </tr>\n",
              "    <tr>\n",
              "      <th>sku_id</th>\n",
              "      <td>0</td>\n",
              "    </tr>\n",
              "    <tr>\n",
              "      <th>store_id</th>\n",
              "      <td>0</td>\n",
              "    </tr>\n",
              "    <tr>\n",
              "      <th>quantity</th>\n",
              "      <td>0</td>\n",
              "    </tr>\n",
              "    <tr>\n",
              "      <th>revenue</th>\n",
              "      <td>0</td>\n",
              "    </tr>\n",
              "  </tbody>\n",
              "</table>\n",
              "</div><br><label><b>dtype:</b> int64</label>"
            ]
          },
          "metadata": {},
          "execution_count": 50
        }
      ]
    },
    {
      "cell_type": "code",
      "source": [
        "logistics.info()"
      ],
      "metadata": {
        "colab": {
          "base_uri": "https://localhost:8080/"
        },
        "id": "qvjUD7hiwZzi",
        "outputId": "ce2c819c-e91e-4ebf-a1b5-97a73ef63e0b"
      },
      "execution_count": 51,
      "outputs": [
        {
          "output_type": "stream",
          "name": "stdout",
          "text": [
            "<class 'pandas.core.frame.DataFrame'>\n",
            "RangeIndex: 4000 entries, 0 to 3999\n",
            "Data columns (total 7 columns):\n",
            " #   Column              Non-Null Count  Dtype \n",
            "---  ------              --------------  ----- \n",
            " 0   date                4000 non-null   object\n",
            " 1   route_id            4000 non-null   object\n",
            " 2   sku_id              4000 non-null   object\n",
            " 3   transport_mode      4000 non-null   object\n",
            " 4   distance_km         4000 non-null   int64 \n",
            " 5   cost                4000 non-null   int64 \n",
            " 6   delivery_time_days  4000 non-null   int64 \n",
            "dtypes: int64(3), object(4)\n",
            "memory usage: 218.9+ KB\n"
          ]
        }
      ]
    },
    {
      "cell_type": "code",
      "source": [
        "logistics.isnull().sum()"
      ],
      "metadata": {
        "colab": {
          "base_uri": "https://localhost:8080/",
          "height": 0
        },
        "id": "zCEocGcUyOE-",
        "outputId": "65885931-8031-49ac-d536-3407494a7d12"
      },
      "execution_count": 52,
      "outputs": [
        {
          "output_type": "execute_result",
          "data": {
            "text/plain": [
              "date                  0\n",
              "route_id              0\n",
              "sku_id                0\n",
              "transport_mode        0\n",
              "distance_km           0\n",
              "cost                  0\n",
              "delivery_time_days    0\n",
              "dtype: int64"
            ],
            "text/html": [
              "<div>\n",
              "<style scoped>\n",
              "    .dataframe tbody tr th:only-of-type {\n",
              "        vertical-align: middle;\n",
              "    }\n",
              "\n",
              "    .dataframe tbody tr th {\n",
              "        vertical-align: top;\n",
              "    }\n",
              "\n",
              "    .dataframe thead th {\n",
              "        text-align: right;\n",
              "    }\n",
              "</style>\n",
              "<table border=\"1\" class=\"dataframe\">\n",
              "  <thead>\n",
              "    <tr style=\"text-align: right;\">\n",
              "      <th></th>\n",
              "      <th>0</th>\n",
              "    </tr>\n",
              "  </thead>\n",
              "  <tbody>\n",
              "    <tr>\n",
              "      <th>date</th>\n",
              "      <td>0</td>\n",
              "    </tr>\n",
              "    <tr>\n",
              "      <th>route_id</th>\n",
              "      <td>0</td>\n",
              "    </tr>\n",
              "    <tr>\n",
              "      <th>sku_id</th>\n",
              "      <td>0</td>\n",
              "    </tr>\n",
              "    <tr>\n",
              "      <th>transport_mode</th>\n",
              "      <td>0</td>\n",
              "    </tr>\n",
              "    <tr>\n",
              "      <th>distance_km</th>\n",
              "      <td>0</td>\n",
              "    </tr>\n",
              "    <tr>\n",
              "      <th>cost</th>\n",
              "      <td>0</td>\n",
              "    </tr>\n",
              "    <tr>\n",
              "      <th>delivery_time_days</th>\n",
              "      <td>0</td>\n",
              "    </tr>\n",
              "  </tbody>\n",
              "</table>\n",
              "</div><br><label><b>dtype:</b> int64</label>"
            ]
          },
          "metadata": {},
          "execution_count": 52
        }
      ]
    },
    {
      "cell_type": "code",
      "source": [
        "procurement.info()"
      ],
      "metadata": {
        "colab": {
          "base_uri": "https://localhost:8080/"
        },
        "id": "9YuvaCbQyCUI",
        "outputId": "3a459eca-d47c-474a-ca9d-8e684f89f03f"
      },
      "execution_count": 53,
      "outputs": [
        {
          "output_type": "stream",
          "name": "stdout",
          "text": [
            "<class 'pandas.core.frame.DataFrame'>\n",
            "RangeIndex: 4000 entries, 0 to 3999\n",
            "Data columns (total 6 columns):\n",
            " #   Column          Non-Null Count  Dtype \n",
            "---  ------          --------------  ----- \n",
            " 0   date            4000 non-null   object\n",
            " 1   sku_id          4000 non-null   object\n",
            " 2   supplier        4000 non-null   object\n",
            " 3   order_qty       4000 non-null   int64 \n",
            " 4   lead_time_days  4000 non-null   int64 \n",
            " 5   cost            4000 non-null   int64 \n",
            "dtypes: int64(3), object(3)\n",
            "memory usage: 187.6+ KB\n"
          ]
        }
      ]
    },
    {
      "cell_type": "code",
      "source": [
        "procurement.isnull().sum()"
      ],
      "metadata": {
        "colab": {
          "base_uri": "https://localhost:8080/",
          "height": 0
        },
        "id": "6JsV8n_VyP1T",
        "outputId": "e5db3578-41c4-470f-85c6-f073e4b5b133"
      },
      "execution_count": 54,
      "outputs": [
        {
          "output_type": "execute_result",
          "data": {
            "text/plain": [
              "date              0\n",
              "sku_id            0\n",
              "supplier          0\n",
              "order_qty         0\n",
              "lead_time_days    0\n",
              "cost              0\n",
              "dtype: int64"
            ],
            "text/html": [
              "<div>\n",
              "<style scoped>\n",
              "    .dataframe tbody tr th:only-of-type {\n",
              "        vertical-align: middle;\n",
              "    }\n",
              "\n",
              "    .dataframe tbody tr th {\n",
              "        vertical-align: top;\n",
              "    }\n",
              "\n",
              "    .dataframe thead th {\n",
              "        text-align: right;\n",
              "    }\n",
              "</style>\n",
              "<table border=\"1\" class=\"dataframe\">\n",
              "  <thead>\n",
              "    <tr style=\"text-align: right;\">\n",
              "      <th></th>\n",
              "      <th>0</th>\n",
              "    </tr>\n",
              "  </thead>\n",
              "  <tbody>\n",
              "    <tr>\n",
              "      <th>date</th>\n",
              "      <td>0</td>\n",
              "    </tr>\n",
              "    <tr>\n",
              "      <th>sku_id</th>\n",
              "      <td>0</td>\n",
              "    </tr>\n",
              "    <tr>\n",
              "      <th>supplier</th>\n",
              "      <td>0</td>\n",
              "    </tr>\n",
              "    <tr>\n",
              "      <th>order_qty</th>\n",
              "      <td>0</td>\n",
              "    </tr>\n",
              "    <tr>\n",
              "      <th>lead_time_days</th>\n",
              "      <td>0</td>\n",
              "    </tr>\n",
              "    <tr>\n",
              "      <th>cost</th>\n",
              "      <td>0</td>\n",
              "    </tr>\n",
              "  </tbody>\n",
              "</table>\n",
              "</div><br><label><b>dtype:</b> int64</label>"
            ]
          },
          "metadata": {},
          "execution_count": 54
        }
      ]
    },
    {
      "cell_type": "code",
      "source": [
        "inventory.info()"
      ],
      "metadata": {
        "colab": {
          "base_uri": "https://localhost:8080/"
        },
        "id": "4FKanwhfyFxS",
        "outputId": "8798e498-c5f5-43ec-cf33-6148175c0b69"
      },
      "execution_count": 55,
      "outputs": [
        {
          "output_type": "stream",
          "name": "stdout",
          "text": [
            "<class 'pandas.core.frame.DataFrame'>\n",
            "RangeIndex: 4000 entries, 0 to 3999\n",
            "Data columns (total 5 columns):\n",
            " #   Column         Non-Null Count  Dtype \n",
            "---  ------         --------------  ----- \n",
            " 0   date           4000 non-null   object\n",
            " 1   sku_id         4000 non-null   object\n",
            " 2   opening_stock  4000 non-null   int64 \n",
            " 3   closing_stock  4000 non-null   int64 \n",
            " 4   expiry_date    4000 non-null   object\n",
            "dtypes: int64(2), object(3)\n",
            "memory usage: 156.4+ KB\n"
          ]
        }
      ]
    },
    {
      "cell_type": "code",
      "source": [
        "inventory.isnull().sum()"
      ],
      "metadata": {
        "colab": {
          "base_uri": "https://localhost:8080/",
          "height": 0
        },
        "id": "7UVu8Q-_yHas",
        "outputId": "9dfe4eb0-6357-46f1-f921-efb7b8993592"
      },
      "execution_count": 56,
      "outputs": [
        {
          "output_type": "execute_result",
          "data": {
            "text/plain": [
              "date             0\n",
              "sku_id           0\n",
              "opening_stock    0\n",
              "closing_stock    0\n",
              "expiry_date      0\n",
              "dtype: int64"
            ],
            "text/html": [
              "<div>\n",
              "<style scoped>\n",
              "    .dataframe tbody tr th:only-of-type {\n",
              "        vertical-align: middle;\n",
              "    }\n",
              "\n",
              "    .dataframe tbody tr th {\n",
              "        vertical-align: top;\n",
              "    }\n",
              "\n",
              "    .dataframe thead th {\n",
              "        text-align: right;\n",
              "    }\n",
              "</style>\n",
              "<table border=\"1\" class=\"dataframe\">\n",
              "  <thead>\n",
              "    <tr style=\"text-align: right;\">\n",
              "      <th></th>\n",
              "      <th>0</th>\n",
              "    </tr>\n",
              "  </thead>\n",
              "  <tbody>\n",
              "    <tr>\n",
              "      <th>date</th>\n",
              "      <td>0</td>\n",
              "    </tr>\n",
              "    <tr>\n",
              "      <th>sku_id</th>\n",
              "      <td>0</td>\n",
              "    </tr>\n",
              "    <tr>\n",
              "      <th>opening_stock</th>\n",
              "      <td>0</td>\n",
              "    </tr>\n",
              "    <tr>\n",
              "      <th>closing_stock</th>\n",
              "      <td>0</td>\n",
              "    </tr>\n",
              "    <tr>\n",
              "      <th>expiry_date</th>\n",
              "      <td>0</td>\n",
              "    </tr>\n",
              "  </tbody>\n",
              "</table>\n",
              "</div><br><label><b>dtype:</b> int64</label>"
            ]
          },
          "metadata": {},
          "execution_count": 56
        }
      ]
    },
    {
      "cell_type": "markdown",
      "source": [
        "# **NORMALIZATIION**"
      ],
      "metadata": {
        "id": "qDW1YWf60m4R"
      }
    },
    {
      "cell_type": "code",
      "source": [
        "logistics['transport_mode'] = logistics['transport_mode'].str.lower().str.strip()\n",
        "\n",
        "# Optional: map to standard categories\n",
        "mode_map = {\n",
        "    'truck': 'road',\n",
        "    'lorry': 'road',\n",
        "    'air': 'air',\n",
        "    'air cargo': 'air',\n",
        "    'rail': 'rail',\n",
        "    'train': 'rail',\n",
        "    'ship': 'sea',\n",
        "    'sea': 'sea',\n",
        "    'ocean': 'sea'\n",
        "}\n",
        "\n",
        "logistics['transport_mode'] = logistics['transport_mode'].replace(mode_map)"
      ],
      "metadata": {
        "id": "cxjtxwMSyTSu"
      },
      "execution_count": 57,
      "outputs": []
    },
    {
      "cell_type": "code",
      "source": [
        "logistics.head()"
      ],
      "metadata": {
        "colab": {
          "base_uri": "https://localhost:8080/",
          "height": 0
        },
        "id": "im-19zbn0NtT",
        "outputId": "960d59bd-0ae3-45ae-8275-8b6087d9fc12"
      },
      "execution_count": 58,
      "outputs": [
        {
          "output_type": "execute_result",
          "data": {
            "text/plain": [
              "         date route_id  sku_id transport_mode  distance_km   cost  \\\n",
              "0  2025-02-17     R003  SKU018           rail          634  12046   \n",
              "1  2025-04-16     R005  SKU003           rail          959   6713   \n",
              "2  2025-01-07     R003  SKU004           road          213   2769   \n",
              "3  2025-04-02     R011  SKU006           road          431   5603   \n",
              "4  2025-01-21     R001  SKU019           road          286   4576   \n",
              "\n",
              "   delivery_time_days  \n",
              "0                   8  \n",
              "1                   2  \n",
              "2                   9  \n",
              "3                   6  \n",
              "4                   1  "
            ],
            "text/html": [
              "\n",
              "  <div id=\"df-54920ca6-2f30-45a1-a29c-c7b58de26804\" class=\"colab-df-container\">\n",
              "    <div>\n",
              "<style scoped>\n",
              "    .dataframe tbody tr th:only-of-type {\n",
              "        vertical-align: middle;\n",
              "    }\n",
              "\n",
              "    .dataframe tbody tr th {\n",
              "        vertical-align: top;\n",
              "    }\n",
              "\n",
              "    .dataframe thead th {\n",
              "        text-align: right;\n",
              "    }\n",
              "</style>\n",
              "<table border=\"1\" class=\"dataframe\">\n",
              "  <thead>\n",
              "    <tr style=\"text-align: right;\">\n",
              "      <th></th>\n",
              "      <th>date</th>\n",
              "      <th>route_id</th>\n",
              "      <th>sku_id</th>\n",
              "      <th>transport_mode</th>\n",
              "      <th>distance_km</th>\n",
              "      <th>cost</th>\n",
              "      <th>delivery_time_days</th>\n",
              "    </tr>\n",
              "  </thead>\n",
              "  <tbody>\n",
              "    <tr>\n",
              "      <th>0</th>\n",
              "      <td>2025-02-17</td>\n",
              "      <td>R003</td>\n",
              "      <td>SKU018</td>\n",
              "      <td>rail</td>\n",
              "      <td>634</td>\n",
              "      <td>12046</td>\n",
              "      <td>8</td>\n",
              "    </tr>\n",
              "    <tr>\n",
              "      <th>1</th>\n",
              "      <td>2025-04-16</td>\n",
              "      <td>R005</td>\n",
              "      <td>SKU003</td>\n",
              "      <td>rail</td>\n",
              "      <td>959</td>\n",
              "      <td>6713</td>\n",
              "      <td>2</td>\n",
              "    </tr>\n",
              "    <tr>\n",
              "      <th>2</th>\n",
              "      <td>2025-01-07</td>\n",
              "      <td>R003</td>\n",
              "      <td>SKU004</td>\n",
              "      <td>road</td>\n",
              "      <td>213</td>\n",
              "      <td>2769</td>\n",
              "      <td>9</td>\n",
              "    </tr>\n",
              "    <tr>\n",
              "      <th>3</th>\n",
              "      <td>2025-04-02</td>\n",
              "      <td>R011</td>\n",
              "      <td>SKU006</td>\n",
              "      <td>road</td>\n",
              "      <td>431</td>\n",
              "      <td>5603</td>\n",
              "      <td>6</td>\n",
              "    </tr>\n",
              "    <tr>\n",
              "      <th>4</th>\n",
              "      <td>2025-01-21</td>\n",
              "      <td>R001</td>\n",
              "      <td>SKU019</td>\n",
              "      <td>road</td>\n",
              "      <td>286</td>\n",
              "      <td>4576</td>\n",
              "      <td>1</td>\n",
              "    </tr>\n",
              "  </tbody>\n",
              "</table>\n",
              "</div>\n",
              "    <div class=\"colab-df-buttons\">\n",
              "\n",
              "  <div class=\"colab-df-container\">\n",
              "    <button class=\"colab-df-convert\" onclick=\"convertToInteractive('df-54920ca6-2f30-45a1-a29c-c7b58de26804')\"\n",
              "            title=\"Convert this dataframe to an interactive table.\"\n",
              "            style=\"display:none;\">\n",
              "\n",
              "  <svg xmlns=\"http://www.w3.org/2000/svg\" height=\"24px\" viewBox=\"0 -960 960 960\">\n",
              "    <path d=\"M120-120v-720h720v720H120Zm60-500h600v-160H180v160Zm220 220h160v-160H400v160Zm0 220h160v-160H400v160ZM180-400h160v-160H180v160Zm440 0h160v-160H620v160ZM180-180h160v-160H180v160Zm440 0h160v-160H620v160Z\"/>\n",
              "  </svg>\n",
              "    </button>\n",
              "\n",
              "  <style>\n",
              "    .colab-df-container {\n",
              "      display:flex;\n",
              "      gap: 12px;\n",
              "    }\n",
              "\n",
              "    .colab-df-convert {\n",
              "      background-color: #E8F0FE;\n",
              "      border: none;\n",
              "      border-radius: 50%;\n",
              "      cursor: pointer;\n",
              "      display: none;\n",
              "      fill: #1967D2;\n",
              "      height: 32px;\n",
              "      padding: 0 0 0 0;\n",
              "      width: 32px;\n",
              "    }\n",
              "\n",
              "    .colab-df-convert:hover {\n",
              "      background-color: #E2EBFA;\n",
              "      box-shadow: 0px 1px 2px rgba(60, 64, 67, 0.3), 0px 1px 3px 1px rgba(60, 64, 67, 0.15);\n",
              "      fill: #174EA6;\n",
              "    }\n",
              "\n",
              "    .colab-df-buttons div {\n",
              "      margin-bottom: 4px;\n",
              "    }\n",
              "\n",
              "    [theme=dark] .colab-df-convert {\n",
              "      background-color: #3B4455;\n",
              "      fill: #D2E3FC;\n",
              "    }\n",
              "\n",
              "    [theme=dark] .colab-df-convert:hover {\n",
              "      background-color: #434B5C;\n",
              "      box-shadow: 0px 1px 3px 1px rgba(0, 0, 0, 0.15);\n",
              "      filter: drop-shadow(0px 1px 2px rgba(0, 0, 0, 0.3));\n",
              "      fill: #FFFFFF;\n",
              "    }\n",
              "  </style>\n",
              "\n",
              "    <script>\n",
              "      const buttonEl =\n",
              "        document.querySelector('#df-54920ca6-2f30-45a1-a29c-c7b58de26804 button.colab-df-convert');\n",
              "      buttonEl.style.display =\n",
              "        google.colab.kernel.accessAllowed ? 'block' : 'none';\n",
              "\n",
              "      async function convertToInteractive(key) {\n",
              "        const element = document.querySelector('#df-54920ca6-2f30-45a1-a29c-c7b58de26804');\n",
              "        const dataTable =\n",
              "          await google.colab.kernel.invokeFunction('convertToInteractive',\n",
              "                                                    [key], {});\n",
              "        if (!dataTable) return;\n",
              "\n",
              "        const docLinkHtml = 'Like what you see? Visit the ' +\n",
              "          '<a target=\"_blank\" href=https://colab.research.google.com/notebooks/data_table.ipynb>data table notebook</a>'\n",
              "          + ' to learn more about interactive tables.';\n",
              "        element.innerHTML = '';\n",
              "        dataTable['output_type'] = 'display_data';\n",
              "        await google.colab.output.renderOutput(dataTable, element);\n",
              "        const docLink = document.createElement('div');\n",
              "        docLink.innerHTML = docLinkHtml;\n",
              "        element.appendChild(docLink);\n",
              "      }\n",
              "    </script>\n",
              "  </div>\n",
              "\n",
              "\n",
              "    <div id=\"df-99f498b3-1eba-4664-9308-9cfa7e8bbb42\">\n",
              "      <button class=\"colab-df-quickchart\" onclick=\"quickchart('df-99f498b3-1eba-4664-9308-9cfa7e8bbb42')\"\n",
              "                title=\"Suggest charts\"\n",
              "                style=\"display:none;\">\n",
              "\n",
              "<svg xmlns=\"http://www.w3.org/2000/svg\" height=\"24px\"viewBox=\"0 0 24 24\"\n",
              "     width=\"24px\">\n",
              "    <g>\n",
              "        <path d=\"M19 3H5c-1.1 0-2 .9-2 2v14c0 1.1.9 2 2 2h14c1.1 0 2-.9 2-2V5c0-1.1-.9-2-2-2zM9 17H7v-7h2v7zm4 0h-2V7h2v10zm4 0h-2v-4h2v4z\"/>\n",
              "    </g>\n",
              "</svg>\n",
              "      </button>\n",
              "\n",
              "<style>\n",
              "  .colab-df-quickchart {\n",
              "      --bg-color: #E8F0FE;\n",
              "      --fill-color: #1967D2;\n",
              "      --hover-bg-color: #E2EBFA;\n",
              "      --hover-fill-color: #174EA6;\n",
              "      --disabled-fill-color: #AAA;\n",
              "      --disabled-bg-color: #DDD;\n",
              "  }\n",
              "\n",
              "  [theme=dark] .colab-df-quickchart {\n",
              "      --bg-color: #3B4455;\n",
              "      --fill-color: #D2E3FC;\n",
              "      --hover-bg-color: #434B5C;\n",
              "      --hover-fill-color: #FFFFFF;\n",
              "      --disabled-bg-color: #3B4455;\n",
              "      --disabled-fill-color: #666;\n",
              "  }\n",
              "\n",
              "  .colab-df-quickchart {\n",
              "    background-color: var(--bg-color);\n",
              "    border: none;\n",
              "    border-radius: 50%;\n",
              "    cursor: pointer;\n",
              "    display: none;\n",
              "    fill: var(--fill-color);\n",
              "    height: 32px;\n",
              "    padding: 0;\n",
              "    width: 32px;\n",
              "  }\n",
              "\n",
              "  .colab-df-quickchart:hover {\n",
              "    background-color: var(--hover-bg-color);\n",
              "    box-shadow: 0 1px 2px rgba(60, 64, 67, 0.3), 0 1px 3px 1px rgba(60, 64, 67, 0.15);\n",
              "    fill: var(--button-hover-fill-color);\n",
              "  }\n",
              "\n",
              "  .colab-df-quickchart-complete:disabled,\n",
              "  .colab-df-quickchart-complete:disabled:hover {\n",
              "    background-color: var(--disabled-bg-color);\n",
              "    fill: var(--disabled-fill-color);\n",
              "    box-shadow: none;\n",
              "  }\n",
              "\n",
              "  .colab-df-spinner {\n",
              "    border: 2px solid var(--fill-color);\n",
              "    border-color: transparent;\n",
              "    border-bottom-color: var(--fill-color);\n",
              "    animation:\n",
              "      spin 1s steps(1) infinite;\n",
              "  }\n",
              "\n",
              "  @keyframes spin {\n",
              "    0% {\n",
              "      border-color: transparent;\n",
              "      border-bottom-color: var(--fill-color);\n",
              "      border-left-color: var(--fill-color);\n",
              "    }\n",
              "    20% {\n",
              "      border-color: transparent;\n",
              "      border-left-color: var(--fill-color);\n",
              "      border-top-color: var(--fill-color);\n",
              "    }\n",
              "    30% {\n",
              "      border-color: transparent;\n",
              "      border-left-color: var(--fill-color);\n",
              "      border-top-color: var(--fill-color);\n",
              "      border-right-color: var(--fill-color);\n",
              "    }\n",
              "    40% {\n",
              "      border-color: transparent;\n",
              "      border-right-color: var(--fill-color);\n",
              "      border-top-color: var(--fill-color);\n",
              "    }\n",
              "    60% {\n",
              "      border-color: transparent;\n",
              "      border-right-color: var(--fill-color);\n",
              "    }\n",
              "    80% {\n",
              "      border-color: transparent;\n",
              "      border-right-color: var(--fill-color);\n",
              "      border-bottom-color: var(--fill-color);\n",
              "    }\n",
              "    90% {\n",
              "      border-color: transparent;\n",
              "      border-bottom-color: var(--fill-color);\n",
              "    }\n",
              "  }\n",
              "</style>\n",
              "\n",
              "      <script>\n",
              "        async function quickchart(key) {\n",
              "          const quickchartButtonEl =\n",
              "            document.querySelector('#' + key + ' button');\n",
              "          quickchartButtonEl.disabled = true;  // To prevent multiple clicks.\n",
              "          quickchartButtonEl.classList.add('colab-df-spinner');\n",
              "          try {\n",
              "            const charts = await google.colab.kernel.invokeFunction(\n",
              "                'suggestCharts', [key], {});\n",
              "          } catch (error) {\n",
              "            console.error('Error during call to suggestCharts:', error);\n",
              "          }\n",
              "          quickchartButtonEl.classList.remove('colab-df-spinner');\n",
              "          quickchartButtonEl.classList.add('colab-df-quickchart-complete');\n",
              "        }\n",
              "        (() => {\n",
              "          let quickchartButtonEl =\n",
              "            document.querySelector('#df-99f498b3-1eba-4664-9308-9cfa7e8bbb42 button');\n",
              "          quickchartButtonEl.style.display =\n",
              "            google.colab.kernel.accessAllowed ? 'block' : 'none';\n",
              "        })();\n",
              "      </script>\n",
              "    </div>\n",
              "\n",
              "    </div>\n",
              "  </div>\n"
            ],
            "application/vnd.google.colaboratory.intrinsic+json": {
              "type": "dataframe",
              "variable_name": "logistics",
              "summary": "{\n  \"name\": \"logistics\",\n  \"rows\": 4000,\n  \"fields\": [\n    {\n      \"column\": \"date\",\n      \"properties\": {\n        \"dtype\": \"object\",\n        \"num_unique_values\": 120,\n        \"samples\": [\n          \"2025-02-02\",\n          \"2025-03-04\",\n          \"2025-01-21\"\n        ],\n        \"semantic_type\": \"\",\n        \"description\": \"\"\n      }\n    },\n    {\n      \"column\": \"route_id\",\n      \"properties\": {\n        \"dtype\": \"category\",\n        \"num_unique_values\": 20,\n        \"samples\": [\n          \"R003\",\n          \"R009\",\n          \"R002\"\n        ],\n        \"semantic_type\": \"\",\n        \"description\": \"\"\n      }\n    },\n    {\n      \"column\": \"sku_id\",\n      \"properties\": {\n        \"dtype\": \"category\",\n        \"num_unique_values\": 20,\n        \"samples\": [\n          \"SKU018\",\n          \"SKU010\",\n          \"SKU009\"\n        ],\n        \"semantic_type\": \"\",\n        \"description\": \"\"\n      }\n    },\n    {\n      \"column\": \"transport_mode\",\n      \"properties\": {\n        \"dtype\": \"category\",\n        \"num_unique_values\": 3,\n        \"samples\": [\n          \"rail\",\n          \"road\",\n          \"air\"\n        ],\n        \"semantic_type\": \"\",\n        \"description\": \"\"\n      }\n    },\n    {\n      \"column\": \"distance_km\",\n      \"properties\": {\n        \"dtype\": \"number\",\n        \"std\": 277,\n        \"min\": 50,\n        \"max\": 999,\n        \"num_unique_values\": 934,\n        \"samples\": [\n          393,\n          575,\n          747\n        ],\n        \"semantic_type\": \"\",\n        \"description\": \"\"\n      }\n    },\n    {\n      \"column\": \"cost\",\n      \"properties\": {\n        \"dtype\": \"number\",\n        \"std\": 4191,\n        \"min\": 250,\n        \"max\": 18981,\n        \"num_unique_values\": 2910,\n        \"samples\": [\n          12204,\n          8445,\n          8671\n        ],\n        \"semantic_type\": \"\",\n        \"description\": \"\"\n      }\n    },\n    {\n      \"column\": \"delivery_time_days\",\n      \"properties\": {\n        \"dtype\": \"number\",\n        \"std\": 2,\n        \"min\": 1,\n        \"max\": 9,\n        \"num_unique_values\": 9,\n        \"samples\": [\n          5,\n          2,\n          3\n        ],\n        \"semantic_type\": \"\",\n        \"description\": \"\"\n      }\n    }\n  ]\n}"
            }
          },
          "metadata": {},
          "execution_count": 58
        }
      ]
    },
    {
      "cell_type": "markdown",
      "source": [
        "# **EDA**"
      ],
      "metadata": {
        "id": "gLRFpGUV01On"
      }
    },
    {
      "cell_type": "code",
      "source": [
        "# Convert 'date' column to datetime\n",
        "sales['date'] = pd.to_datetime(sales['date'])\n",
        "logistics['date'] = pd.to_datetime(logistics['date'])\n",
        "procurement['date'] = pd.to_datetime(procurement['date'])\n",
        "inventory['date'] = pd.to_datetime(inventory['date'])\n",
        "\n"
      ],
      "metadata": {
        "id": "dvUc6_v80RfF"
      },
      "execution_count": 59,
      "outputs": []
    },
    {
      "cell_type": "markdown",
      "source": [
        "**Monthly sales trend**"
      ],
      "metadata": {
        "id": "LdXpM3BR2uIX"
      }
    },
    {
      "cell_type": "code",
      "source": [
        "monthly_sales = sales.groupby(sales['date'].dt.to_period(\"M\"))['quantity'].sum()\n",
        "monthly_sales.plot(kind=\"bar\", color=\"skyblue\", figsize=(10,5), title=\"Monthly Sales Trend\")"
      ],
      "metadata": {
        "colab": {
          "base_uri": "https://localhost:8080/",
          "height": 549
        },
        "id": "sf-C4eTo1tME",
        "outputId": "d5963941-2ea0-4b5c-f5f6-e2e5d90c2f06"
      },
      "execution_count": 60,
      "outputs": [
        {
          "output_type": "execute_result",
          "data": {
            "text/plain": [
              "<Axes: title={'center': 'Monthly Sales Trend'}, xlabel='date'>"
            ]
          },
          "metadata": {},
          "execution_count": 60
        },
        {
          "output_type": "display_data",
          "data": {
            "text/plain": [
              "<Figure size 1000x500 with 1 Axes>"
            ],
            "image/png": "[encoded data removed]"
          },
          "metadata": {}
        }
      ]
    },
    {
      "cell_type": "markdown",
      "source": [
        "**Top SKUs**"
      ],
      "metadata": {
        "id": "48ggZN2033kL"
      }
    },
    {
      "cell_type": "code",
      "source": [
        "top_skus = sales.groupby('sku_id')['quantity'].sum().sort_values(ascending=False).head(10)\n",
        "print(top_skus)"
      ],
      "metadata": {
        "colab": {
          "base_uri": "https://localhost:8080/"
        },
        "id": "gB0veVgX3bKG",
        "outputId": "5dc14986-0e65-4254-f83a-897063391e93"
      },
      "execution_count": 61,
      "outputs": [
        {
          "output_type": "stream",
          "name": "stdout",
          "text": [
            "sku_id\n",
            "SKU013    29964\n",
            "SKU015    27238\n",
            "SKU020    26575\n",
            "SKU016    26522\n",
            "SKU008    26228\n",
            "SKU019    25984\n",
            "SKU007    25960\n",
            "SKU017    25784\n",
            "SKU006    24948\n",
            "SKU003    24814\n",
            "Name: quantity, dtype: int64\n"
          ]
        }
      ]
    },
    {
      "cell_type": "markdown",
      "source": [
        "**Sales by Store**"
      ],
      "metadata": {
        "id": "V1PbXJ8PQDza"
      }
    },
    {
      "cell_type": "code",
      "source": [
        "sales_by_store = sales.groupby('store_id')['quantity'].sum().sort_values(ascending=False)\n",
        "sales_by_store.plot(kind=\"bar\", color=\"lightgreen\", figsize=(10,5), title=\"Total Sales by Store\")\n",
        "plt.xlabel(\"Store ID\")\n",
        "plt.ylabel(\"Quantity Sold\")\n",
        "plt.show()"
      ],
      "metadata": {
        "id": "QVJYDPBO_2_X",
        "colab": {
          "base_uri": "https://localhost:8080/",
          "height": 518
        },
        "outputId": "388933dd-0b5d-40dd-8ffb-f7d98d8ee2e2"
      },
      "execution_count": 62,
      "outputs": [
        {
          "output_type": "display_data",
          "data": {
            "text/plain": [
              "<Figure size 1000x500 with 1 Axes>"
            ],
            "image/png": "[encoded data removed]"
          },
          "metadata": {}
        }
      ]
    },
    {
      "cell_type": "markdown",
      "source": [
        "**Avg Inventory per SKU**"
      ],
      "metadata": {
        "id": "xC54R8-pQ4YE"
      }
    },
    {
      "cell_type": "code",
      "source": [
        "avg_inventory_per_sku.plot(kind=\"line\", marker=\"o\", color=\"purple\", figsize=(10,6))\n",
        "plt.title(\"Top 10 SKUs by Avg Inventory\")\n",
        "plt.xlabel(\"SKU ID\")\n",
        "plt.ylabel(\"Average Stock\")\n",
        "plt.grid(True, linestyle=\"--\", alpha=0.7)\n",
        "plt.show()"
      ],
      "metadata": {
        "colab": {
          "base_uri": "https://localhost:8080/",
          "height": 564
        },
        "id": "3BZPqP9fQFBx",
        "outputId": "96a6d52a-ecf5-43b7-8bb8-c8e3dd37c875"
      },
      "execution_count": 63,
      "outputs": [
        {
          "output_type": "display_data",
          "data": {
            "text/plain": [
              "<Figure size 1000x600 with 1 Axes>"
            ],
            "image/png": "[encoded data removed]"
          },
          "metadata": {}
        }
      ]
    },
    {
      "cell_type": "code",
      "metadata": {
        "colab": {
          "base_uri": "https://localhost:8080/"
        },
        "id": "1dc4e4ab",
        "outputId": "f9367039-583c-446b-dc40-08d1c80e78ae"
      },
      "source": [
        "inventory['avg_daily_stock'] = (inventory['opening_stock'] + inventory['closing_stock']) / 2\n",
        "avg_inventory_per_sku = inventory.groupby('sku_id')['avg_daily_stock'].mean().sort_values(ascending=False).head(10)\n",
        "print(avg_inventory_per_sku)"
      ],
      "execution_count": 64,
      "outputs": [
        {
          "output_type": "stream",
          "name": "stdout",
          "text": [
            "sku_id\n",
            "SKU020    473.408879\n",
            "SKU005    467.820000\n",
            "SKU019    460.221649\n",
            "SKU002    455.851429\n",
            "SKU017    455.715026\n",
            "SKU006    451.295918\n",
            "SKU013    449.497585\n",
            "SKU007    442.643590\n",
            "SKU009    440.797436\n",
            "SKU011    438.068783\n",
            "Name: avg_daily_stock, dtype: float64\n"
          ]
        }
      ]
    },
    {
      "cell_type": "markdown",
      "source": [
        "**Avg Lead Time per Supplier**"
      ],
      "metadata": {
        "id": "qi6O0QB3Q8M8"
      }
    },
    {
      "cell_type": "code",
      "source": [
        "plt.figure(figsize=(7,7))\n",
        "plt.pie(avg_lead_time, labels=avg_lead_time.index, autopct='%1.1f%%',\n",
        "        colors=sns.color_palette(\"pastel\"), startangle=90, counterclock=False)\n",
        "plt.title(\"Average Lead Time Share by Supplier\")\n",
        "plt.show()"
      ],
      "metadata": {
        "colab": {
          "base_uri": "https://localhost:8080/",
          "height": 598
        },
        "id": "AYDeI30vQXeK",
        "outputId": "91717af5-24f5-4560-e3b5-f14b07387195"
      },
      "execution_count": 65,
      "outputs": [
        {
          "output_type": "display_data",
          "data": {
            "text/plain": [
              "<Figure size 700x700 with 1 Axes>"
            ],
            "image/png": "[encoded data removed]"
          },
          "metadata": {}
        }
      ]
    },
    {
      "cell_type": "code",
      "metadata": {
        "colab": {
          "base_uri": "https://localhost:8080/"
        },
        "id": "940c346a",
        "outputId": "975f21f3-6c29-4be0-c2cb-af79862a9eef"
      },
      "source": [
        "avg_lead_time = procurement.groupby('supplier')['lead_time_days'].mean()\n",
        "print(avg_lead_time)"
      ],
      "execution_count": 66,
      "outputs": [
        {
          "output_type": "stream",
          "name": "stdout",
          "text": [
            "supplier\n",
            "SUP01    8.496094\n",
            "SUP02    8.555143\n",
            "SUP03    8.548619\n",
            "SUP04    8.577020\n",
            "SUP05    8.630000\n",
            "Name: lead_time_days, dtype: float64\n"
          ]
        }
      ]
    },
    {
      "cell_type": "markdown",
      "source": [
        "**Avg Logistics Cost per KM by Mode**"
      ],
      "metadata": {
        "id": "nvJeOAupSvln"
      }
    },
    {
      "cell_type": "code",
      "source": [
        "df_cost = cost_by_mode.reset_index()\n",
        "plt.figure(figsize=(6,4))\n",
        "sns.heatmap(df_cost.pivot_table(values=\"cost_per_km\", index=\"transport_mode\"),\n",
        "            annot=True, cmap=\"cividis\", fmt=\".2f\")\n",
        "plt.title(\"Heatmap: Avg Logistics Cost per KM by Mode\")\n",
        "plt.show()"
      ],
      "metadata": {
        "colab": {
          "base_uri": "https://localhost:8080/",
          "height": 391
        },
        "id": "p8y55pD_Rfuv",
        "outputId": "5ef7d1f2-b3d8-49e8-c193-073fc8d01b35"
      },
      "execution_count": 67,
      "outputs": [
        {
          "output_type": "display_data",
          "data": {
            "text/plain": [
              "<Figure size 600x400 with 2 Axes>"
            ],
            "image/png": "[encoded data removed]"
          },
          "metadata": {}
        }
      ]
    },
    {
      "cell_type": "code",
      "metadata": {
        "colab": {
          "base_uri": "https://localhost:8080/"
        },
        "id": "e901a762",
        "outputId": "70fb0daf-fcff-4de5-bfaf-3b8e20730628"
      },
      "source": [
        "logistics['cost_per_km'] = logistics['cost'] / logistics['distance_km']\n",
        "cost_by_mode = logistics.groupby('transport_mode')['cost_per_km'].mean().reset_index()\n",
        "print(cost_by_mode)"
      ],
      "execution_count": 68,
      "outputs": [
        {
          "output_type": "stream",
          "name": "stdout",
          "text": [
            "  transport_mode  cost_per_km\n",
            "0            air    12.073518\n",
            "1           rail    11.882225\n",
            "2           road    11.899334\n"
          ]
        }
      ]
    },
    {
      "cell_type": "markdown",
      "source": [],
      "metadata": {
        "id": "8TBQKfVuSyX8"
      }
    },
    {
      "cell_type": "markdown",
      "source": [
        "**Avg Delivery Time by Mode**"
      ],
      "metadata": {
        "id": "ba3l5eumTBaO"
      }
    },
    {
      "cell_type": "code",
      "source": [
        "delivery_time_by_mode = logistics.groupby('transport_mode')['delivery_time_days'].mean()\n",
        "print(delivery_time_by_mode)"
      ],
      "metadata": {
        "colab": {
          "base_uri": "https://localhost:8080/"
        },
        "id": "dqjoFXwzTbMg",
        "outputId": "78d95833-3406-43d9-cf92-11423d28ece2"
      },
      "execution_count": 69,
      "outputs": [
        {
          "output_type": "stream",
          "name": "stdout",
          "text": [
            "transport_mode\n",
            "air     4.936759\n",
            "rail    4.997832\n",
            "road    4.894152\n",
            "Name: delivery_time_days, dtype: float64\n"
          ]
        }
      ]
    },
    {
      "cell_type": "code",
      "source": [
        "plt.figure(figsize=(6,6))\n",
        "plt.pie(delivery_time_by_mode, labels=delivery_time_by_mode.index, autopct='%1.1f%%',\n",
        "        colors=sns.color_palette(\"pastel\"), startangle=90, counterclock=False)\n",
        "plt.title(\"Share of Avg Delivery Time by Mode\")\n",
        "plt.show()"
      ],
      "metadata": {
        "colab": {
          "base_uri": "https://localhost:8080/",
          "height": 521
        },
        "id": "0i6vShBSSLKM",
        "outputId": "4373a4b3-6c85-49cc-f114-e3ed0e16b0d9"
      },
      "execution_count": 70,
      "outputs": [
        {
          "output_type": "display_data",
          "data": {
            "text/plain": [
              "<Figure size 600x600 with 1 Axes>"
            ],
            "image/png": "[encoded data removed]"
          },
          "metadata": {}
        }
      ]
    },
    {
      "cell_type": "markdown",
      "source": [
        "# **KPIs**"
      ],
      "metadata": {
        "id": "0QqEZnSBUi0U"
      }
    },
    {
      "cell_type": "markdown",
      "source": [
        "**Avg Inventory**"
      ],
      "metadata": {
        "id": "IeTEGkJdVib3"
      }
    },
    {
      "cell_type": "code",
      "source": [
        "inventory['avg_daily_stock'] = (inventory['opening_stock'] + inventory['closing_stock']) / 2\n",
        "\n",
        "avg_inventory = inventory['avg_daily_stock'].mean()\n",
        "\n",
        "print(\"📦 Average Inventory:\", avg_inventory)"
      ],
      "metadata": {
        "colab": {
          "base_uri": "https://localhost:8080/"
        },
        "id": "_a0RJC1cTEuZ",
        "outputId": "80f1d171-0d8b-4eb3-a66e-f9d51a678d4f"
      },
      "execution_count": 71,
      "outputs": [
        {
          "output_type": "stream",
          "name": "stdout",
          "text": [
            "📦 Average Inventory: 441.565875\n"
          ]
        }
      ]
    },
    {
      "cell_type": "markdown",
      "source": [
        "**Inventory Turnover Ratio (ITR)**"
      ],
      "metadata": {
        "id": "RoekmGUJVyOk"
      }
    },
    {
      "cell_type": "code",
      "source": [
        "total_sales = sales['revenue'].sum()\n",
        "\n",
        "avg_inventory = inventory['avg_daily_stock'].mean()\n",
        "\n",
        "inventory_turnover = total_sales / avg_inventory\n",
        "\n",
        "print(\"📊 Inventory Turnover Ratio:\", round(inventory_turnover, 2))"
      ],
      "metadata": {
        "colab": {
          "base_uri": "https://localhost:8080/"
        },
        "id": "I0NH5yY6U_fd",
        "outputId": "3cf2ddc5-8fab-4b36-8f16-82bbbe87b608"
      },
      "execution_count": 72,
      "outputs": [
        {
          "output_type": "stream",
          "name": "stdout",
          "text": [
            "📊 Inventory Turnover Ratio: 223649.18\n"
          ]
        }
      ]
    },
    {
      "cell_type": "markdown",
      "source": [
        "**Days of Inventory (DOI)**"
      ],
      "metadata": {
        "id": "ro9kvUMqc-kf"
      }
    },
    {
      "cell_type": "code",
      "source": [
        "avg_lead_time_supplier = procurement.groupby('supplier')['lead_time_days'].mean().sort_values()\n",
        "\n",
        "avg_lead_time_overall = procurement['lead_time_days'].mean()\n",
        "\n",
        "print(\"📦 Average Lead Time (Overall):\", round(avg_lead_time_overall, 2), \"days\")\n",
        "print(\"\\n📦 Average Lead Time by Supplier:\\n\", avg_lead_time_supplier)\n"
      ],
      "metadata": {
        "colab": {
          "base_uri": "https://localhost:8080/"
        },
        "id": "15BIrq9ydOA0",
        "outputId": "284adf2f-10af-4bef-8eaa-b10b375b2548"
      },
      "execution_count": 73,
      "outputs": [
        {
          "output_type": "stream",
          "name": "stdout",
          "text": [
            "📦 Average Lead Time (Overall): 8.56 days\n",
            "\n",
            "📦 Average Lead Time by Supplier:\n",
            " supplier\n",
            "SUP01    8.496094\n",
            "SUP03    8.548619\n",
            "SUP02    8.555143\n",
            "SUP04    8.577020\n",
            "SUP05    8.630000\n",
            "Name: lead_time_days, dtype: float64\n"
          ]
        }
      ]
    },
    {
      "cell_type": "markdown",
      "source": [
        "**Supplier Reliability**"
      ],
      "metadata": {
        "id": "HhYwchA6jy0Y"
      }
    },
    {
      "cell_type": "code",
      "source": [
        "promised_lead_time = 7\n",
        "\n",
        "procurement['on_time'] = procurement['lead_time_days'] <= promised_lead_time\n",
        "\n",
        "supplier_reliability = procurement.groupby('supplier')['on_time'].mean().sort_values(ascending=False) * 100\n",
        "\n",
        "print(\"📦 Supplier Reliability (% On-time Deliveries):\\n\", supplier_reliability)"
      ],
      "metadata": {
        "colab": {
          "base_uri": "https://localhost:8080/"
        },
        "id": "rNhgEPcodMf0",
        "outputId": "80123c23-45e9-4cef-d6e9-13351a4d24d6"
      },
      "execution_count": 74,
      "outputs": [
        {
          "output_type": "stream",
          "name": "stdout",
          "text": [
            "📦 Supplier Reliability (% On-time Deliveries):\n",
            " supplier\n",
            "SUP04    41.035354\n",
            "SUP01    40.625000\n",
            "SUP03    39.855942\n",
            "SUP02    39.653036\n",
            "SUP05    38.750000\n",
            "Name: on_time, dtype: float64\n"
          ]
        }
      ]
    },
    {
      "cell_type": "markdown",
      "source": [
        "**Average Logistics Cost per KM**"
      ],
      "metadata": {
        "id": "oof9sktjswmQ"
      }
    },
    {
      "cell_type": "code",
      "source": [
        "logistics['cost_per_km'] = logistics['cost'] / logistics['distance_km']\n",
        "\n",
        "avg_cost_per_km = logistics.groupby('transport_mode')['cost_per_km'].mean().sort_values()\n",
        "\n",
        "print(\"🚚 Avg Logistics Cost per KM by Mode:\\n\", avg_cost_per_km)\n"
      ],
      "metadata": {
        "colab": {
          "base_uri": "https://localhost:8080/"
        },
        "id": "gmBXvvsWjtjU",
        "outputId": "8dcb4cb9-103a-4ec8-8f59-1970659b74bd"
      },
      "execution_count": 75,
      "outputs": [
        {
          "output_type": "stream",
          "name": "stdout",
          "text": [
            "🚚 Avg Logistics Cost per KM by Mode:\n",
            " transport_mode\n",
            "rail    11.882225\n",
            "road    11.899334\n",
            "air     12.073518\n",
            "Name: cost_per_km, dtype: float64\n"
          ]
        }
      ]
    },
    {
      "cell_type": "markdown",
      "source": [
        "**On-Time Delivery % (OTD)**"
      ],
      "metadata": {
        "id": "pAB4zdJYtUYk"
      }
    },
    {
      "cell_type": "code",
      "source": [
        "promised_delivery_days = 5\n",
        "\n",
        "logistics['on_time'] = logistics['delivery_time_days'] <= promised_delivery_days\n",
        "\n",
        "on_time_delivery = logistics.groupby('transport_mode')['on_time'].mean() * 100\n",
        "\n",
        "print(\"🚚 On-Time Delivery % by Mode:\\n\", on_time_delivery)"
      ],
      "metadata": {
        "colab": {
          "base_uri": "https://localhost:8080/"
        },
        "id": "Srsttszqs5PC",
        "outputId": "1159eac3-52bb-4f25-8561-425aa4562ae9"
      },
      "execution_count": 76,
      "outputs": [
        {
          "output_type": "stream",
          "name": "stdout",
          "text": [
            "🚚 On-Time Delivery % by Mode:\n",
            " transport_mode\n",
            "air     55.731225\n",
            "rail    54.841040\n",
            "road    58.327165\n",
            "Name: on_time, dtype: float64\n"
          ]
        }
      ]
    },
    {
      "cell_type": "markdown",
      "source": [
        "**Average Order Value (AOV)**"
      ],
      "metadata": {
        "id": "Gox_12f-ws-5"
      }
    },
    {
      "cell_type": "code",
      "source": [
        "aov = sales['revenue'].mean()\n",
        "print(\"📊 Average Order Value (AOV):\", round(aov, 2))"
      ],
      "metadata": {
        "colab": {
          "base_uri": "https://localhost:8080/"
        },
        "id": "CPFZFaMHtiBF",
        "outputId": "4f2bc6b9-d7b1-4620-cd08-0b14f1f70ab6"
      },
      "execution_count": 77,
      "outputs": [
        {
          "output_type": "stream",
          "name": "stdout",
          "text": [
            "📊 Average Order Value (AOV): 24688.96\n"
          ]
        }
      ]
    },
    {
      "cell_type": "markdown",
      "source": [
        "**Stockout Risk per SKU**"
      ],
      "metadata": {
        "id": "giPuzEPfxHLR"
      }
    },
    {
      "cell_type": "code",
      "source": [
        "daily_sales_sku = sales.groupby('sku_id')['revenue'].mean()\n",
        "\n",
        "inventory['avg_daily_stock'] = (inventory['opening_stock'] + inventory['closing_stock'])/2\n",
        "avg_inventory_sku = inventory.groupby('sku_id')['avg_daily_stock'].mean()\n",
        "\n",
        "stockout_risk = avg_inventory_sku / daily_sales_sku\n",
        "stockout_risk = stockout_risk.sort_values().head(10)  # Top 10 risky SKUs\n",
        "\n",
        "print(\"⚠️ Top 10 SKUs at Stockout Risk:\\n\", stockout_risk)\n"
      ],
      "metadata": {
        "colab": {
          "base_uri": "https://localhost:8080/"
        },
        "id": "GUvU3qibwwVx",
        "outputId": "1e853aab-e4ff-4aad-bf59-6dfaa14d036b"
      },
      "execution_count": 78,
      "outputs": [
        {
          "output_type": "stream",
          "name": "stdout",
          "text": [
            "⚠️ Top 10 SKUs at Stockout Risk:\n",
            " sku_id\n",
            "SKU014    0.016507\n",
            "SKU003    0.016653\n",
            "SKU010    0.016885\n",
            "SKU016    0.016932\n",
            "SKU018    0.017310\n",
            "SKU008    0.017525\n",
            "SKU012    0.017583\n",
            "SKU015    0.017588\n",
            "SKU017    0.017633\n",
            "SKU006    0.017717\n",
            "dtype: float64\n"
          ]
        }
      ]
    },
    {
      "cell_type": "markdown",
      "source": [
        "# **RECOMMENDATION MODEL**"
      ],
      "metadata": {
        "id": "32hCObsHD787"
      }
    },
    {
      "cell_type": "markdown",
      "source": [
        "**Reorder Point & Order Recommendation**"
      ],
      "metadata": {
        "id": "Z5K1g4GRJtmn"
      }
    },
    {
      "cell_type": "code",
      "source": [
        "forecast_summary = sales.groupby('sku_id')['revenue'].mean().reset_index()\n",
        "forecast_summary.rename(columns={'revenue':'avg_daily_demand'}, inplace=True)"
      ],
      "metadata": {
        "id": "auWu0bzPxQlI"
      },
      "execution_count": 81,
      "outputs": []
    },
    {
      "cell_type": "code",
      "source": [
        "# Inventory Data\n",
        "inventory['avg_daily_stock'] = (inventory['opening_stock'] + inventory['closing_stock']) / 2\n",
        "avg_inventory = inventory.groupby('sku_id')['avg_daily_stock'].mean().reset_index()\n",
        "\n",
        "# Supplier Lead Time\n",
        "avg_lead_time = procurement.groupby('supplier')['lead_time_days'].mean().reset_index()\n",
        "\n",
        "sku_suppliers = procurement[['sku_id','supplier']].drop_duplicates()\n",
        "\n",
        "# Merge everything\n",
        "reco_data = forecast_summary.merge(avg_inventory, on='sku_id', how='left')\n",
        "reco_data = reco_data.merge(sku_suppliers, on='sku_id', how='left')\n",
        "reco_data = reco_data.merge(avg_lead_time, on='supplier', how='left')\n",
        "\n",
        "# Reorder Point Calculation\n",
        "reco_data['reorder_point'] = (reco_data['avg_daily_demand'] * reco_data['lead_time_days'])\n",
        "reco_data['safety_stock'] = 0.2 * reco_data['reorder_point']  # 20% buffer\n",
        "reco_data['reorder_point'] = reco_data['reorder_point'] + reco_data['safety_stock']\n",
        "\n",
        "reco_data['order_needed'] = reco_data['avg_daily_stock'] < reco_data['reorder_point']\n",
        "\n",
        "# Calculate Recommended Order Quantity\n",
        "reco_data['recommended_order_qty'] = reco_data['reorder_point'] - reco_data['avg_daily_stock']\n",
        "reco_data['recommended_order_qty'] = reco_data['recommended_order_qty'].apply(lambda x: max(x,0))\n",
        "\n",
        "# Final Recommendation Table\n",
        "recommendations = reco_data[['sku_id','supplier','avg_daily_demand','avg_daily_stock',\n",
        "                             'lead_time_days','reorder_point','recommended_order_qty','order_needed']]\n",
        "\n",
        "print(\"📦 Replenishment Recommendations:\\n\")\n",
        "print(recommendations.head(15))"
      ],
      "metadata": {
        "colab": {
          "base_uri": "https://localhost:8080/"
        },
        "id": "yUMIMDnM_VAr",
        "outputId": "dee3bced-2b45-4168-ee10-aaa7c0e1ca17"
      },
      "execution_count": 85,
      "outputs": [
        {
          "output_type": "stream",
          "name": "stdout",
          "text": [
            "📦 Replenishment Recommendations:\n",
            "\n",
            "    sku_id supplier  avg_daily_demand  avg_daily_stock  lead_time_days  \\\n",
            "0   SKU001    SUP05      23321.789474       421.059459        8.630000   \n",
            "1   SKU001    SUP02      23321.789474       421.059459        8.555143   \n",
            "2   SKU001    SUP03      23321.789474       421.059459        8.548619   \n",
            "3   SKU001    SUP01      23321.789474       421.059459        8.496094   \n",
            "4   SKU001    SUP04      23321.789474       421.059459        8.577020   \n",
            "5   SKU002    SUP01      23901.497297       455.851429        8.496094   \n",
            "6   SKU002    SUP04      23901.497297       455.851429        8.577020   \n",
            "7   SKU002    SUP05      23901.497297       455.851429        8.630000   \n",
            "8   SKU002    SUP02      23901.497297       455.851429        8.555143   \n",
            "9   SKU002    SUP03      23901.497297       455.851429        8.548619   \n",
            "10  SKU003    SUP02      26099.427083       434.635000        8.555143   \n",
            "11  SKU003    SUP03      26099.427083       434.635000        8.548619   \n",
            "12  SKU003    SUP04      26099.427083       434.635000        8.577020   \n",
            "13  SKU003    SUP05      26099.427083       434.635000        8.630000   \n",
            "14  SKU003    SUP01      26099.427083       434.635000        8.496094   \n",
            "\n",
            "    reorder_point  recommended_order_qty  order_needed  \n",
            "0   241520.451789          241099.392330          True  \n",
            "1   239425.478850          239004.419390          True  \n",
            "2   239242.923662          238821.864203          True  \n",
            "3   237772.931743          237351.872284          True  \n",
            "4   240037.751356          239616.691896          True  \n",
            "5   243683.234164          243227.382735          True  \n",
            "6   246004.350213          245548.498784          True  \n",
            "7   247523.906011          247068.054582          True  \n",
            "8   245376.858499          244921.007070          True  \n",
            "9   245189.765552          244733.914123          True  \n",
            "10  267941.181537          267506.546537          True  \n",
            "11  267736.883929          267302.248929          True  \n",
            "12  268626.376026          268191.741026          True  \n",
            "13  270285.666875          269851.031875          True  \n",
            "14  266091.815186          265657.180186          True  \n"
          ]
        }
      ]
    },
    {
      "cell_type": "markdown",
      "source": [
        "**Transport Mode Recommendation**"
      ],
      "metadata": {
        "id": "b7hlLe7tKdDo"
      }
    },
    {
      "cell_type": "code",
      "source": [
        "# Calculate avg delivery time & cost per km per mode\n",
        "logistics['cost_per_km'] = logistics['cost'] / logistics['distance_km']\n",
        "\n",
        "mode_stats = logistics.groupby('transport_mode').agg({\n",
        "    'delivery_time_days':'mean',\n",
        "    'cost_per_km':'mean'\n",
        "}).reset_index()\n",
        "\n",
        "# Simple business rules for recommendation\n",
        "def recommend_mode(urgency, mode_stats):\n",
        "    \"\"\"\n",
        "    urgency: 'high' (stockout risk) or 'low' (enough buffer stock)\n",
        "    mode_stats: dataframe with transport mode performance\n",
        "    \"\"\"\n",
        "    if urgency == \"high\":\n",
        "        # choose the FASTEST transport mode\n",
        "        return mode_stats.sort_values('delivery_time_days').iloc[0]['transport_mode']\n",
        "    else:\n",
        "        # choose the CHEAPEST transport mode\n",
        "        return mode_stats.sort_values('cost_per_km').iloc[0]['transport_mode']\n",
        "\n",
        "# Add transport recommendation to SKU orders\n",
        "recommendations['urgency'] = recommendations['order_needed'].apply(lambda x: \"high\" if x else \"low\")\n",
        "recommendations['transport_mode'] = recommendations['urgency'].apply(lambda x: recommend_mode(x, mode_stats))\n",
        "\n",
        "# Final Supply Chain Recommendation\n",
        "final_recommendations = recommendations[['sku_id','supplier','avg_daily_demand','avg_daily_stock',\n",
        "                                         'lead_time_days','reorder_point','recommended_order_qty',\n",
        "                                         'urgency','transport_mode']]\n",
        "\n",
        "print(\"🚀 Final Supply Chain Recommendations:\\n\")\n",
        "print(final_recommendations.head(15))\n"
      ],
      "metadata": {
        "colab": {
          "base_uri": "https://localhost:8080/"
        },
        "id": "ia-Ij13RFYny",
        "outputId": "c375d7c6-e022-4787-e244-0ec5eb453872"
      },
      "execution_count": 86,
      "outputs": [
        {
          "output_type": "stream",
          "name": "stdout",
          "text": [
            "🚀 Final Supply Chain Recommendations:\n",
            "\n",
            "    sku_id supplier  avg_daily_demand  avg_daily_stock  lead_time_days  \\\n",
            "0   SKU001    SUP05      23321.789474       421.059459        8.630000   \n",
            "1   SKU001    SUP02      23321.789474       421.059459        8.555143   \n",
            "2   SKU001    SUP03      23321.789474       421.059459        8.548619   \n",
            "3   SKU001    SUP01      23321.789474       421.059459        8.496094   \n",
            "4   SKU001    SUP04      23321.789474       421.059459        8.577020   \n",
            "5   SKU002    SUP01      23901.497297       455.851429        8.496094   \n",
            "6   SKU002    SUP04      23901.497297       455.851429        8.577020   \n",
            "7   SKU002    SUP05      23901.497297       455.851429        8.630000   \n",
            "8   SKU002    SUP02      23901.497297       455.851429        8.555143   \n",
            "9   SKU002    SUP03      23901.497297       455.851429        8.548619   \n",
            "10  SKU003    SUP02      26099.427083       434.635000        8.555143   \n",
            "11  SKU003    SUP03      26099.427083       434.635000        8.548619   \n",
            "12  SKU003    SUP04      26099.427083       434.635000        8.577020   \n",
            "13  SKU003    SUP05      26099.427083       434.635000        8.630000   \n",
            "14  SKU003    SUP01      26099.427083       434.635000        8.496094   \n",
            "\n",
            "    reorder_point  recommended_order_qty urgency transport_mode  \n",
            "0   241520.451789          241099.392330    high           road  \n",
            "1   239425.478850          239004.419390    high           road  \n",
            "2   239242.923662          238821.864203    high           road  \n",
            "3   237772.931743          237351.872284    high           road  \n",
            "4   240037.751356          239616.691896    high           road  \n",
            "5   243683.234164          243227.382735    high           road  \n",
            "6   246004.350213          245548.498784    high           road  \n",
            "7   247523.906011          247068.054582    high           road  \n",
            "8   245376.858499          244921.007070    high           road  \n",
            "9   245189.765552          244733.914123    high           road  \n",
            "10  267941.181537          267506.546537    high           road  \n",
            "11  267736.883929          267302.248929    high           road  \n",
            "12  268626.376026          268191.741026    high           road  \n",
            "13  270285.666875          269851.031875    high           road  \n",
            "14  266091.815186          265657.180186    high           road  \n"
          ]
        }
      ]
    },
    {
      "cell_type": "code",
      "source": [
        "recommendations.to_csv(\"recommendations.csv\", index=False)\n",
        "final_recommendations.to_csv(\"final_recommendations.csv\", index=False)\n",
        "forecast_summary.to_csv(\"forecast_summary.csv\", index=False)"
      ],
      "metadata": {
        "id": "Zx4Kk-4OIqYG"
      },
      "execution_count": 88,
      "outputs": []
    },
    {
      "cell_type": "code",
      "source": [],
      "metadata": {
        "id": "1mRx6ZPmMruf"
      },
      "execution_count": null,
      "outputs": []
    }
  ]
}